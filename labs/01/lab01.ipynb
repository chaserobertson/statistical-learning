{
 "cells": [
  {
   "cell_type": "markdown",
   "id": "924b3bca",
   "metadata": {},
   "source": [
    "# Task 1 - Generate Alarms Data"
   ]
  },
  {
   "cell_type": "markdown",
   "id": "0aadca39",
   "metadata": {},
   "source": [
    "The following code snippet was used to generate the mock-up alarm frequency and reginal information, which that were used as examples in the lecture last week. Run the code with your student ID as seed variable and generate your own (random) data"
   ]
  },
  {
   "cell_type": "code",
   "execution_count": 162,
   "id": "4329adbf",
   "metadata": {},
   "outputs": [],
   "source": [
    "# load library\n",
    "library(tidyverse)\n",
    "\n",
    "# set random seed\n",
    "seed <- 686249907 # <Replaced '765' with my student ID here.>\n",
    "set.seed(seed)\n",
    "\n",
    "# generate alarm id, dates and region vectors\n",
    "alarms_id.vt <- paste0('alarms_', sample(LETTERS, size = 10, replace = FALSE))\n",
    "alarms_dates.vt <- paste0('d.',seq(Sys.Date()-60, Sys.Date(), by = '1 day'))  # 60 days back.\n",
    "alarms_region.vt <- c('AKL_North', 'AKL_Central', 'Waiheke','AKL_South', 'AKL_Others')\n",
    "\n",
    "# generate random alarm frequency counts\n",
    "alarms_count.mt <- matrix(round(runif(length(alarms_id.vt) * length(alarms_dates.vt))*seed),\n",
    "                          nrow = length(alarms_id.vt), ncol=length(alarms_dates.vt))\n",
    "colnames(alarms_count.mt) <- alarms_dates.vt\n",
    "\n",
    "# set up data frames\n",
    "alarms_count.df <- data.frame(alarm_id = alarms_id.vt, alarms_count.mt)\n",
    "alarms_info.df <- data.frame(alarm_ID = alarms_id.vt, alarms_region = alarms_region.vt)"
   ]
  },
  {
   "cell_type": "markdown",
   "id": "6bd64619",
   "metadata": {},
   "source": [
    "# Task 2 - `{tidyverse}` Operations"
   ]
  },
  {
   "cell_type": "markdown",
   "id": "41e69260",
   "metadata": {},
   "source": [
    "Use the data generated to answer the following question: what is the average number of alarms per day in each region?"
   ]
  },
  {
   "cell_type": "code",
   "execution_count": 163,
   "id": "f7e8dfea",
   "metadata": {},
   "outputs": [
    {
     "name": "stderr",
     "output_type": "stream",
     "text": [
      "\u001b[1m\u001b[22m`summarise()` has grouped output by 'date'. You can override using the `.groups` argument.\n"
     ]
    }
   ],
   "source": [
    "alarms_insight.df = alarms_count.df %>%\n",
    "    pivot_longer(-alarm_id, names_to='date', values_to='frequency') %>%\n",
    "    left_join(alarms_info.df, by=c('alarm_id' = 'alarm_ID')) %>%\n",
    "    group_by(date, alarms_region) %>%\n",
    "    summarise(avg_count = mean(frequency)) %>%\n",
    "    separate(date, c('prefix','year','month','day')) %>%\n",
    "    select(-prefix)"
   ]
  },
  {
   "cell_type": "code",
   "execution_count": 164,
   "id": "02147eb2",
   "metadata": {},
   "outputs": [
    {
     "data": {
      "text/html": [
       "<table class=\"dataframe\">\n",
       "<caption>A tibble: 305 × 5</caption>\n",
       "<thead>\n",
       "\t<tr><th scope=col>year</th><th scope=col>month</th><th scope=col>day</th><th scope=col>alarms_region</th><th scope=col>avg_count</th></tr>\n",
       "\t<tr><th scope=col>&lt;chr&gt;</th><th scope=col>&lt;chr&gt;</th><th scope=col>&lt;chr&gt;</th><th scope=col>&lt;chr&gt;</th><th scope=col>&lt;dbl&gt;</th></tr>\n",
       "</thead>\n",
       "<tbody>\n",
       "\t<tr><td>2022</td><td>01</td><td>07</td><td>AKL_Central</td><td>404216498</td></tr>\n",
       "\t<tr><td>2022</td><td>01</td><td>07</td><td>AKL_North  </td><td>390631160</td></tr>\n",
       "\t<tr><td>2022</td><td>01</td><td>07</td><td>AKL_Others </td><td>321501920</td></tr>\n",
       "\t<tr><td>2022</td><td>01</td><td>07</td><td>AKL_South  </td><td>273605540</td></tr>\n",
       "\t<tr><td>2022</td><td>01</td><td>07</td><td>Waiheke    </td><td>545564040</td></tr>\n",
       "\t<tr><td>2022</td><td>01</td><td>08</td><td>AKL_Central</td><td>524049658</td></tr>\n",
       "\t<tr><td>2022</td><td>01</td><td>08</td><td>AKL_North  </td><td>316742309</td></tr>\n",
       "\t<tr><td>2022</td><td>01</td><td>08</td><td>AKL_Others </td><td>171393187</td></tr>\n",
       "\t<tr><td>2022</td><td>01</td><td>08</td><td>AKL_South  </td><td>459933812</td></tr>\n",
       "\t<tr><td>2022</td><td>01</td><td>08</td><td>Waiheke    </td><td>566158320</td></tr>\n",
       "\t<tr><td>2022</td><td>01</td><td>09</td><td>AKL_Central</td><td>357655234</td></tr>\n",
       "\t<tr><td>2022</td><td>01</td><td>09</td><td>AKL_North  </td><td>310978298</td></tr>\n",
       "\t<tr><td>2022</td><td>01</td><td>09</td><td>AKL_Others </td><td>525591878</td></tr>\n",
       "\t<tr><td>2022</td><td>01</td><td>09</td><td>AKL_South  </td><td>254867997</td></tr>\n",
       "\t<tr><td>2022</td><td>01</td><td>09</td><td>Waiheke    </td><td>378910289</td></tr>\n",
       "\t<tr><td>2022</td><td>01</td><td>10</td><td>AKL_Central</td><td>313730518</td></tr>\n",
       "\t<tr><td>2022</td><td>01</td><td>10</td><td>AKL_North  </td><td>537904401</td></tr>\n",
       "\t<tr><td>2022</td><td>01</td><td>10</td><td>AKL_Others </td><td>555072654</td></tr>\n",
       "\t<tr><td>2022</td><td>01</td><td>10</td><td>AKL_South  </td><td>584490574</td></tr>\n",
       "\t<tr><td>2022</td><td>01</td><td>10</td><td>Waiheke    </td><td>162342754</td></tr>\n",
       "\t<tr><td>2022</td><td>01</td><td>11</td><td>AKL_Central</td><td>588575370</td></tr>\n",
       "\t<tr><td>2022</td><td>01</td><td>11</td><td>AKL_North  </td><td>395243417</td></tr>\n",
       "\t<tr><td>2022</td><td>01</td><td>11</td><td>AKL_Others </td><td>544542323</td></tr>\n",
       "\t<tr><td>2022</td><td>01</td><td>11</td><td>AKL_South  </td><td>405684703</td></tr>\n",
       "\t<tr><td>2022</td><td>01</td><td>11</td><td>Waiheke    </td><td>288114078</td></tr>\n",
       "\t<tr><td>2022</td><td>01</td><td>12</td><td>AKL_Central</td><td>363421186</td></tr>\n",
       "\t<tr><td>2022</td><td>01</td><td>12</td><td>AKL_North  </td><td>366368832</td></tr>\n",
       "\t<tr><td>2022</td><td>01</td><td>12</td><td>AKL_Others </td><td>342411466</td></tr>\n",
       "\t<tr><td>2022</td><td>01</td><td>12</td><td>AKL_South  </td><td>444587801</td></tr>\n",
       "\t<tr><td>2022</td><td>01</td><td>12</td><td>Waiheke    </td><td>532102250</td></tr>\n",
       "\t<tr><td>⋮</td><td>⋮</td><td>⋮</td><td>⋮</td><td>⋮</td></tr>\n",
       "\t<tr><td>2022</td><td>03</td><td>03</td><td>AKL_Central</td><td>442880208</td></tr>\n",
       "\t<tr><td>2022</td><td>03</td><td>03</td><td>AKL_North  </td><td>509858014</td></tr>\n",
       "\t<tr><td>2022</td><td>03</td><td>03</td><td>AKL_Others </td><td>236514590</td></tr>\n",
       "\t<tr><td>2022</td><td>03</td><td>03</td><td>AKL_South  </td><td>666186214</td></tr>\n",
       "\t<tr><td>2022</td><td>03</td><td>03</td><td>Waiheke    </td><td>512126668</td></tr>\n",
       "\t<tr><td>2022</td><td>03</td><td>04</td><td>AKL_Central</td><td>409359428</td></tr>\n",
       "\t<tr><td>2022</td><td>03</td><td>04</td><td>AKL_North  </td><td>463078036</td></tr>\n",
       "\t<tr><td>2022</td><td>03</td><td>04</td><td>AKL_Others </td><td>464134552</td></tr>\n",
       "\t<tr><td>2022</td><td>03</td><td>04</td><td>AKL_South  </td><td>108520557</td></tr>\n",
       "\t<tr><td>2022</td><td>03</td><td>04</td><td>Waiheke    </td><td>149532680</td></tr>\n",
       "\t<tr><td>2022</td><td>03</td><td>05</td><td>AKL_Central</td><td>310662183</td></tr>\n",
       "\t<tr><td>2022</td><td>03</td><td>05</td><td>AKL_North  </td><td> 66314590</td></tr>\n",
       "\t<tr><td>2022</td><td>03</td><td>05</td><td>AKL_Others </td><td>233997706</td></tr>\n",
       "\t<tr><td>2022</td><td>03</td><td>05</td><td>AKL_South  </td><td>294177968</td></tr>\n",
       "\t<tr><td>2022</td><td>03</td><td>05</td><td>Waiheke    </td><td>179080156</td></tr>\n",
       "\t<tr><td>2022</td><td>03</td><td>06</td><td>AKL_Central</td><td>288127110</td></tr>\n",
       "\t<tr><td>2022</td><td>03</td><td>06</td><td>AKL_North  </td><td>526912454</td></tr>\n",
       "\t<tr><td>2022</td><td>03</td><td>06</td><td>AKL_Others </td><td>372609197</td></tr>\n",
       "\t<tr><td>2022</td><td>03</td><td>06</td><td>AKL_South  </td><td> 95036126</td></tr>\n",
       "\t<tr><td>2022</td><td>03</td><td>06</td><td>Waiheke    </td><td>376845210</td></tr>\n",
       "\t<tr><td>2022</td><td>03</td><td>07</td><td>AKL_Central</td><td>297490214</td></tr>\n",
       "\t<tr><td>2022</td><td>03</td><td>07</td><td>AKL_North  </td><td>452086944</td></tr>\n",
       "\t<tr><td>2022</td><td>03</td><td>07</td><td>AKL_Others </td><td>324125840</td></tr>\n",
       "\t<tr><td>2022</td><td>03</td><td>07</td><td>AKL_South  </td><td>348098438</td></tr>\n",
       "\t<tr><td>2022</td><td>03</td><td>07</td><td>Waiheke    </td><td>377673714</td></tr>\n",
       "\t<tr><td>2022</td><td>03</td><td>08</td><td>AKL_Central</td><td>529988500</td></tr>\n",
       "\t<tr><td>2022</td><td>03</td><td>08</td><td>AKL_North  </td><td>176984974</td></tr>\n",
       "\t<tr><td>2022</td><td>03</td><td>08</td><td>AKL_Others </td><td>244552858</td></tr>\n",
       "\t<tr><td>2022</td><td>03</td><td>08</td><td>AKL_South  </td><td>496592344</td></tr>\n",
       "\t<tr><td>2022</td><td>03</td><td>08</td><td>Waiheke    </td><td>363324694</td></tr>\n",
       "</tbody>\n",
       "</table>\n"
      ],
      "text/latex": [
       "A tibble: 305 × 5\n",
       "\\begin{tabular}{lllll}\n",
       " year & month & day & alarms\\_region & avg\\_count\\\\\n",
       " <chr> & <chr> & <chr> & <chr> & <dbl>\\\\\n",
       "\\hline\n",
       "\t 2022 & 01 & 07 & AKL\\_Central & 404216498\\\\\n",
       "\t 2022 & 01 & 07 & AKL\\_North   & 390631160\\\\\n",
       "\t 2022 & 01 & 07 & AKL\\_Others  & 321501920\\\\\n",
       "\t 2022 & 01 & 07 & AKL\\_South   & 273605540\\\\\n",
       "\t 2022 & 01 & 07 & Waiheke     & 545564040\\\\\n",
       "\t 2022 & 01 & 08 & AKL\\_Central & 524049658\\\\\n",
       "\t 2022 & 01 & 08 & AKL\\_North   & 316742309\\\\\n",
       "\t 2022 & 01 & 08 & AKL\\_Others  & 171393187\\\\\n",
       "\t 2022 & 01 & 08 & AKL\\_South   & 459933812\\\\\n",
       "\t 2022 & 01 & 08 & Waiheke     & 566158320\\\\\n",
       "\t 2022 & 01 & 09 & AKL\\_Central & 357655234\\\\\n",
       "\t 2022 & 01 & 09 & AKL\\_North   & 310978298\\\\\n",
       "\t 2022 & 01 & 09 & AKL\\_Others  & 525591878\\\\\n",
       "\t 2022 & 01 & 09 & AKL\\_South   & 254867997\\\\\n",
       "\t 2022 & 01 & 09 & Waiheke     & 378910289\\\\\n",
       "\t 2022 & 01 & 10 & AKL\\_Central & 313730518\\\\\n",
       "\t 2022 & 01 & 10 & AKL\\_North   & 537904401\\\\\n",
       "\t 2022 & 01 & 10 & AKL\\_Others  & 555072654\\\\\n",
       "\t 2022 & 01 & 10 & AKL\\_South   & 584490574\\\\\n",
       "\t 2022 & 01 & 10 & Waiheke     & 162342754\\\\\n",
       "\t 2022 & 01 & 11 & AKL\\_Central & 588575370\\\\\n",
       "\t 2022 & 01 & 11 & AKL\\_North   & 395243417\\\\\n",
       "\t 2022 & 01 & 11 & AKL\\_Others  & 544542323\\\\\n",
       "\t 2022 & 01 & 11 & AKL\\_South   & 405684703\\\\\n",
       "\t 2022 & 01 & 11 & Waiheke     & 288114078\\\\\n",
       "\t 2022 & 01 & 12 & AKL\\_Central & 363421186\\\\\n",
       "\t 2022 & 01 & 12 & AKL\\_North   & 366368832\\\\\n",
       "\t 2022 & 01 & 12 & AKL\\_Others  & 342411466\\\\\n",
       "\t 2022 & 01 & 12 & AKL\\_South   & 444587801\\\\\n",
       "\t 2022 & 01 & 12 & Waiheke     & 532102250\\\\\n",
       "\t ⋮ & ⋮ & ⋮ & ⋮ & ⋮\\\\\n",
       "\t 2022 & 03 & 03 & AKL\\_Central & 442880208\\\\\n",
       "\t 2022 & 03 & 03 & AKL\\_North   & 509858014\\\\\n",
       "\t 2022 & 03 & 03 & AKL\\_Others  & 236514590\\\\\n",
       "\t 2022 & 03 & 03 & AKL\\_South   & 666186214\\\\\n",
       "\t 2022 & 03 & 03 & Waiheke     & 512126668\\\\\n",
       "\t 2022 & 03 & 04 & AKL\\_Central & 409359428\\\\\n",
       "\t 2022 & 03 & 04 & AKL\\_North   & 463078036\\\\\n",
       "\t 2022 & 03 & 04 & AKL\\_Others  & 464134552\\\\\n",
       "\t 2022 & 03 & 04 & AKL\\_South   & 108520557\\\\\n",
       "\t 2022 & 03 & 04 & Waiheke     & 149532680\\\\\n",
       "\t 2022 & 03 & 05 & AKL\\_Central & 310662183\\\\\n",
       "\t 2022 & 03 & 05 & AKL\\_North   &  66314590\\\\\n",
       "\t 2022 & 03 & 05 & AKL\\_Others  & 233997706\\\\\n",
       "\t 2022 & 03 & 05 & AKL\\_South   & 294177968\\\\\n",
       "\t 2022 & 03 & 05 & Waiheke     & 179080156\\\\\n",
       "\t 2022 & 03 & 06 & AKL\\_Central & 288127110\\\\\n",
       "\t 2022 & 03 & 06 & AKL\\_North   & 526912454\\\\\n",
       "\t 2022 & 03 & 06 & AKL\\_Others  & 372609197\\\\\n",
       "\t 2022 & 03 & 06 & AKL\\_South   &  95036126\\\\\n",
       "\t 2022 & 03 & 06 & Waiheke     & 376845210\\\\\n",
       "\t 2022 & 03 & 07 & AKL\\_Central & 297490214\\\\\n",
       "\t 2022 & 03 & 07 & AKL\\_North   & 452086944\\\\\n",
       "\t 2022 & 03 & 07 & AKL\\_Others  & 324125840\\\\\n",
       "\t 2022 & 03 & 07 & AKL\\_South   & 348098438\\\\\n",
       "\t 2022 & 03 & 07 & Waiheke     & 377673714\\\\\n",
       "\t 2022 & 03 & 08 & AKL\\_Central & 529988500\\\\\n",
       "\t 2022 & 03 & 08 & AKL\\_North   & 176984974\\\\\n",
       "\t 2022 & 03 & 08 & AKL\\_Others  & 244552858\\\\\n",
       "\t 2022 & 03 & 08 & AKL\\_South   & 496592344\\\\\n",
       "\t 2022 & 03 & 08 & Waiheke     & 363324694\\\\\n",
       "\\end{tabular}\n"
      ],
      "text/markdown": [
       "\n",
       "A tibble: 305 × 5\n",
       "\n",
       "| year &lt;chr&gt; | month &lt;chr&gt; | day &lt;chr&gt; | alarms_region &lt;chr&gt; | avg_count &lt;dbl&gt; |\n",
       "|---|---|---|---|---|\n",
       "| 2022 | 01 | 07 | AKL_Central | 404216498 |\n",
       "| 2022 | 01 | 07 | AKL_North   | 390631160 |\n",
       "| 2022 | 01 | 07 | AKL_Others  | 321501920 |\n",
       "| 2022 | 01 | 07 | AKL_South   | 273605540 |\n",
       "| 2022 | 01 | 07 | Waiheke     | 545564040 |\n",
       "| 2022 | 01 | 08 | AKL_Central | 524049658 |\n",
       "| 2022 | 01 | 08 | AKL_North   | 316742309 |\n",
       "| 2022 | 01 | 08 | AKL_Others  | 171393187 |\n",
       "| 2022 | 01 | 08 | AKL_South   | 459933812 |\n",
       "| 2022 | 01 | 08 | Waiheke     | 566158320 |\n",
       "| 2022 | 01 | 09 | AKL_Central | 357655234 |\n",
       "| 2022 | 01 | 09 | AKL_North   | 310978298 |\n",
       "| 2022 | 01 | 09 | AKL_Others  | 525591878 |\n",
       "| 2022 | 01 | 09 | AKL_South   | 254867997 |\n",
       "| 2022 | 01 | 09 | Waiheke     | 378910289 |\n",
       "| 2022 | 01 | 10 | AKL_Central | 313730518 |\n",
       "| 2022 | 01 | 10 | AKL_North   | 537904401 |\n",
       "| 2022 | 01 | 10 | AKL_Others  | 555072654 |\n",
       "| 2022 | 01 | 10 | AKL_South   | 584490574 |\n",
       "| 2022 | 01 | 10 | Waiheke     | 162342754 |\n",
       "| 2022 | 01 | 11 | AKL_Central | 588575370 |\n",
       "| 2022 | 01 | 11 | AKL_North   | 395243417 |\n",
       "| 2022 | 01 | 11 | AKL_Others  | 544542323 |\n",
       "| 2022 | 01 | 11 | AKL_South   | 405684703 |\n",
       "| 2022 | 01 | 11 | Waiheke     | 288114078 |\n",
       "| 2022 | 01 | 12 | AKL_Central | 363421186 |\n",
       "| 2022 | 01 | 12 | AKL_North   | 366368832 |\n",
       "| 2022 | 01 | 12 | AKL_Others  | 342411466 |\n",
       "| 2022 | 01 | 12 | AKL_South   | 444587801 |\n",
       "| 2022 | 01 | 12 | Waiheke     | 532102250 |\n",
       "| ⋮ | ⋮ | ⋮ | ⋮ | ⋮ |\n",
       "| 2022 | 03 | 03 | AKL_Central | 442880208 |\n",
       "| 2022 | 03 | 03 | AKL_North   | 509858014 |\n",
       "| 2022 | 03 | 03 | AKL_Others  | 236514590 |\n",
       "| 2022 | 03 | 03 | AKL_South   | 666186214 |\n",
       "| 2022 | 03 | 03 | Waiheke     | 512126668 |\n",
       "| 2022 | 03 | 04 | AKL_Central | 409359428 |\n",
       "| 2022 | 03 | 04 | AKL_North   | 463078036 |\n",
       "| 2022 | 03 | 04 | AKL_Others  | 464134552 |\n",
       "| 2022 | 03 | 04 | AKL_South   | 108520557 |\n",
       "| 2022 | 03 | 04 | Waiheke     | 149532680 |\n",
       "| 2022 | 03 | 05 | AKL_Central | 310662183 |\n",
       "| 2022 | 03 | 05 | AKL_North   |  66314590 |\n",
       "| 2022 | 03 | 05 | AKL_Others  | 233997706 |\n",
       "| 2022 | 03 | 05 | AKL_South   | 294177968 |\n",
       "| 2022 | 03 | 05 | Waiheke     | 179080156 |\n",
       "| 2022 | 03 | 06 | AKL_Central | 288127110 |\n",
       "| 2022 | 03 | 06 | AKL_North   | 526912454 |\n",
       "| 2022 | 03 | 06 | AKL_Others  | 372609197 |\n",
       "| 2022 | 03 | 06 | AKL_South   |  95036126 |\n",
       "| 2022 | 03 | 06 | Waiheke     | 376845210 |\n",
       "| 2022 | 03 | 07 | AKL_Central | 297490214 |\n",
       "| 2022 | 03 | 07 | AKL_North   | 452086944 |\n",
       "| 2022 | 03 | 07 | AKL_Others  | 324125840 |\n",
       "| 2022 | 03 | 07 | AKL_South   | 348098438 |\n",
       "| 2022 | 03 | 07 | Waiheke     | 377673714 |\n",
       "| 2022 | 03 | 08 | AKL_Central | 529988500 |\n",
       "| 2022 | 03 | 08 | AKL_North   | 176984974 |\n",
       "| 2022 | 03 | 08 | AKL_Others  | 244552858 |\n",
       "| 2022 | 03 | 08 | AKL_South   | 496592344 |\n",
       "| 2022 | 03 | 08 | Waiheke     | 363324694 |\n",
       "\n"
      ],
      "text/plain": [
       "    year month day alarms_region avg_count\n",
       "1   2022 01    07  AKL_Central   404216498\n",
       "2   2022 01    07  AKL_North     390631160\n",
       "3   2022 01    07  AKL_Others    321501920\n",
       "4   2022 01    07  AKL_South     273605540\n",
       "5   2022 01    07  Waiheke       545564040\n",
       "6   2022 01    08  AKL_Central   524049658\n",
       "7   2022 01    08  AKL_North     316742309\n",
       "8   2022 01    08  AKL_Others    171393187\n",
       "9   2022 01    08  AKL_South     459933812\n",
       "10  2022 01    08  Waiheke       566158320\n",
       "11  2022 01    09  AKL_Central   357655234\n",
       "12  2022 01    09  AKL_North     310978298\n",
       "13  2022 01    09  AKL_Others    525591878\n",
       "14  2022 01    09  AKL_South     254867997\n",
       "15  2022 01    09  Waiheke       378910289\n",
       "16  2022 01    10  AKL_Central   313730518\n",
       "17  2022 01    10  AKL_North     537904401\n",
       "18  2022 01    10  AKL_Others    555072654\n",
       "19  2022 01    10  AKL_South     584490574\n",
       "20  2022 01    10  Waiheke       162342754\n",
       "21  2022 01    11  AKL_Central   588575370\n",
       "22  2022 01    11  AKL_North     395243417\n",
       "23  2022 01    11  AKL_Others    544542323\n",
       "24  2022 01    11  AKL_South     405684703\n",
       "25  2022 01    11  Waiheke       288114078\n",
       "26  2022 01    12  AKL_Central   363421186\n",
       "27  2022 01    12  AKL_North     366368832\n",
       "28  2022 01    12  AKL_Others    342411466\n",
       "29  2022 01    12  AKL_South     444587801\n",
       "30  2022 01    12  Waiheke       532102250\n",
       "⋮   ⋮    ⋮     ⋮   ⋮             ⋮        \n",
       "276 2022 03    03  AKL_Central   442880208\n",
       "277 2022 03    03  AKL_North     509858014\n",
       "278 2022 03    03  AKL_Others    236514590\n",
       "279 2022 03    03  AKL_South     666186214\n",
       "280 2022 03    03  Waiheke       512126668\n",
       "281 2022 03    04  AKL_Central   409359428\n",
       "282 2022 03    04  AKL_North     463078036\n",
       "283 2022 03    04  AKL_Others    464134552\n",
       "284 2022 03    04  AKL_South     108520557\n",
       "285 2022 03    04  Waiheke       149532680\n",
       "286 2022 03    05  AKL_Central   310662183\n",
       "287 2022 03    05  AKL_North      66314590\n",
       "288 2022 03    05  AKL_Others    233997706\n",
       "289 2022 03    05  AKL_South     294177968\n",
       "290 2022 03    05  Waiheke       179080156\n",
       "291 2022 03    06  AKL_Central   288127110\n",
       "292 2022 03    06  AKL_North     526912454\n",
       "293 2022 03    06  AKL_Others    372609197\n",
       "294 2022 03    06  AKL_South      95036126\n",
       "295 2022 03    06  Waiheke       376845210\n",
       "296 2022 03    07  AKL_Central   297490214\n",
       "297 2022 03    07  AKL_North     452086944\n",
       "298 2022 03    07  AKL_Others    324125840\n",
       "299 2022 03    07  AKL_South     348098438\n",
       "300 2022 03    07  Waiheke       377673714\n",
       "301 2022 03    08  AKL_Central   529988500\n",
       "302 2022 03    08  AKL_North     176984974\n",
       "303 2022 03    08  AKL_Others    244552858\n",
       "304 2022 03    08  AKL_South     496592344\n",
       "305 2022 03    08  Waiheke       363324694"
      ]
     },
     "metadata": {},
     "output_type": "display_data"
    }
   ],
   "source": [
    "alarms_insight.df"
   ]
  },
  {
   "cell_type": "markdown",
   "id": "d8573b01",
   "metadata": {},
   "source": [
    "# Task 3: Date operation using `{lubridate}`"
   ]
  },
  {
   "cell_type": "markdown",
   "id": "ba3c5e3e",
   "metadata": {},
   "source": [
    "Use the data generated to answer the following question: which days of the week has the highest and the lowest average number of alarms across the entire Auckland?\n",
    "\n",
    "Hint: guess what, there is a cheat sheet.\n"
   ]
  },
  {
   "cell_type": "code",
   "execution_count": 165,
   "id": "064b8dd2",
   "metadata": {},
   "outputs": [],
   "source": [
    "library(lubridate)"
   ]
  },
  {
   "cell_type": "code",
   "execution_count": 166,
   "id": "6860dbde",
   "metadata": {},
   "outputs": [],
   "source": [
    "avg_alarms_per_weekday <- alarms_insight.df %>%\n",
    "    unite(date, year, month, day, sep='-') %>%\n",
    "    mutate(weekday = wday(date, label=T, abbr=F)) %>%\n",
    "    group_by(weekday) %>%\n",
    "    summarise(max_avg=max(avg_count), min_avg=min(avg_count))"
   ]
  },
  {
   "cell_type": "markdown",
   "id": "320b370b",
   "metadata": {},
   "source": [
    "Average number of alarms across all regions, sorted by **maximum** average."
   ]
  },
  {
   "cell_type": "code",
   "execution_count": 167,
   "id": "93f4751a",
   "metadata": {},
   "outputs": [
    {
     "data": {
      "text/html": [
       "<table class=\"dataframe\">\n",
       "<caption>A tibble: 7 × 3</caption>\n",
       "<thead>\n",
       "\t<tr><th scope=col>weekday</th><th scope=col>max_avg</th><th scope=col>min_avg</th></tr>\n",
       "\t<tr><th scope=col>&lt;ord&gt;</th><th scope=col>&lt;dbl&gt;</th><th scope=col>&lt;dbl&gt;</th></tr>\n",
       "</thead>\n",
       "<tbody>\n",
       "\t<tr><td>Sunday   </td><td>526912454</td><td> 36545567</td></tr>\n",
       "\t<tr><td>Saturday </td><td>566158320</td><td> 44884958</td></tr>\n",
       "\t<tr><td>Wednesday</td><td>621904651</td><td> 75038223</td></tr>\n",
       "\t<tr><td>Monday   </td><td>635515190</td><td>105728908</td></tr>\n",
       "\t<tr><td>Friday   </td><td>636532446</td><td> 22162170</td></tr>\n",
       "\t<tr><td>Tuesday  </td><td>647938858</td><td> 61954680</td></tr>\n",
       "\t<tr><td>Thursday </td><td>666186214</td><td> 52402932</td></tr>\n",
       "</tbody>\n",
       "</table>\n"
      ],
      "text/latex": [
       "A tibble: 7 × 3\n",
       "\\begin{tabular}{lll}\n",
       " weekday & max\\_avg & min\\_avg\\\\\n",
       " <ord> & <dbl> & <dbl>\\\\\n",
       "\\hline\n",
       "\t Sunday    & 526912454 &  36545567\\\\\n",
       "\t Saturday  & 566158320 &  44884958\\\\\n",
       "\t Wednesday & 621904651 &  75038223\\\\\n",
       "\t Monday    & 635515190 & 105728908\\\\\n",
       "\t Friday    & 636532446 &  22162170\\\\\n",
       "\t Tuesday   & 647938858 &  61954680\\\\\n",
       "\t Thursday  & 666186214 &  52402932\\\\\n",
       "\\end{tabular}\n"
      ],
      "text/markdown": [
       "\n",
       "A tibble: 7 × 3\n",
       "\n",
       "| weekday &lt;ord&gt; | max_avg &lt;dbl&gt; | min_avg &lt;dbl&gt; |\n",
       "|---|---|---|\n",
       "| Sunday    | 526912454 |  36545567 |\n",
       "| Saturday  | 566158320 |  44884958 |\n",
       "| Wednesday | 621904651 |  75038223 |\n",
       "| Monday    | 635515190 | 105728908 |\n",
       "| Friday    | 636532446 |  22162170 |\n",
       "| Tuesday   | 647938858 |  61954680 |\n",
       "| Thursday  | 666186214 |  52402932 |\n",
       "\n"
      ],
      "text/plain": [
       "  weekday   max_avg   min_avg  \n",
       "1 Sunday    526912454  36545567\n",
       "2 Saturday  566158320  44884958\n",
       "3 Wednesday 621904651  75038223\n",
       "4 Monday    635515190 105728908\n",
       "5 Friday    636532446  22162170\n",
       "6 Tuesday   647938858  61954680\n",
       "7 Thursday  666186214  52402932"
      ]
     },
     "metadata": {},
     "output_type": "display_data"
    }
   ],
   "source": [
    "avg_alarms_per_weekday[order(avg_alarms_per_weekday$max_avg),]"
   ]
  },
  {
   "cell_type": "markdown",
   "id": "6ad8b852",
   "metadata": {},
   "source": [
    "Average number of alarms across all regions, sorted by **minimum** average."
   ]
  },
  {
   "cell_type": "code",
   "execution_count": 168,
   "id": "64792bde",
   "metadata": {},
   "outputs": [
    {
     "data": {
      "text/html": [
       "<table class=\"dataframe\">\n",
       "<caption>A tibble: 7 × 3</caption>\n",
       "<thead>\n",
       "\t<tr><th scope=col>weekday</th><th scope=col>max_avg</th><th scope=col>min_avg</th></tr>\n",
       "\t<tr><th scope=col>&lt;ord&gt;</th><th scope=col>&lt;dbl&gt;</th><th scope=col>&lt;dbl&gt;</th></tr>\n",
       "</thead>\n",
       "<tbody>\n",
       "\t<tr><td>Friday   </td><td>636532446</td><td> 22162170</td></tr>\n",
       "\t<tr><td>Sunday   </td><td>526912454</td><td> 36545567</td></tr>\n",
       "\t<tr><td>Saturday </td><td>566158320</td><td> 44884958</td></tr>\n",
       "\t<tr><td>Thursday </td><td>666186214</td><td> 52402932</td></tr>\n",
       "\t<tr><td>Tuesday  </td><td>647938858</td><td> 61954680</td></tr>\n",
       "\t<tr><td>Wednesday</td><td>621904651</td><td> 75038223</td></tr>\n",
       "\t<tr><td>Monday   </td><td>635515190</td><td>105728908</td></tr>\n",
       "</tbody>\n",
       "</table>\n"
      ],
      "text/latex": [
       "A tibble: 7 × 3\n",
       "\\begin{tabular}{lll}\n",
       " weekday & max\\_avg & min\\_avg\\\\\n",
       " <ord> & <dbl> & <dbl>\\\\\n",
       "\\hline\n",
       "\t Friday    & 636532446 &  22162170\\\\\n",
       "\t Sunday    & 526912454 &  36545567\\\\\n",
       "\t Saturday  & 566158320 &  44884958\\\\\n",
       "\t Thursday  & 666186214 &  52402932\\\\\n",
       "\t Tuesday   & 647938858 &  61954680\\\\\n",
       "\t Wednesday & 621904651 &  75038223\\\\\n",
       "\t Monday    & 635515190 & 105728908\\\\\n",
       "\\end{tabular}\n"
      ],
      "text/markdown": [
       "\n",
       "A tibble: 7 × 3\n",
       "\n",
       "| weekday &lt;ord&gt; | max_avg &lt;dbl&gt; | min_avg &lt;dbl&gt; |\n",
       "|---|---|---|\n",
       "| Friday    | 636532446 |  22162170 |\n",
       "| Sunday    | 526912454 |  36545567 |\n",
       "| Saturday  | 566158320 |  44884958 |\n",
       "| Thursday  | 666186214 |  52402932 |\n",
       "| Tuesday   | 647938858 |  61954680 |\n",
       "| Wednesday | 621904651 |  75038223 |\n",
       "| Monday    | 635515190 | 105728908 |\n",
       "\n"
      ],
      "text/plain": [
       "  weekday   max_avg   min_avg  \n",
       "1 Friday    636532446  22162170\n",
       "2 Sunday    526912454  36545567\n",
       "3 Saturday  566158320  44884958\n",
       "4 Thursday  666186214  52402932\n",
       "5 Tuesday   647938858  61954680\n",
       "6 Wednesday 621904651  75038223\n",
       "7 Monday    635515190 105728908"
      ]
     },
     "metadata": {},
     "output_type": "display_data"
    }
   ],
   "source": [
    "avg_alarms_per_weekday[order(avg_alarms_per_weekday$min_avg),]"
   ]
  },
  {
   "cell_type": "markdown",
   "id": "5e913c2a",
   "metadata": {},
   "source": [
    "# Task 4: Retrospective"
   ]
  },
  {
   "cell_type": "markdown",
   "id": "ca9ac17b",
   "metadata": {},
   "source": [
    "Write a short paragraph summarising your experience and comments about using {tidyverse} for data wrangling tasks."
   ]
  },
  {
   "cell_type": "markdown",
   "id": "14122691",
   "metadata": {},
   "source": [
    "_I had a fantastic experience using tidyverse for these data wrangling tasks. R and tidyverse provide a much smoother and faster experience than other data analysis tools that I have experience with, like Excel and Python. It seems that the basic functions provided by tidyverse fill the same niche that I have used SQL and SQL-like languages for in the past. I like that the piping format of tidyverse operations matches the SQL `select` function and its downstream modifiers. The various tidyverse documentation sites and Stackoverflow forum questions make troubleshooting easy._"
   ]
  },
  {
   "cell_type": "markdown",
   "id": "0225767f",
   "metadata": {},
   "source": [
    "## EOF"
   ]
  }
 ],
 "metadata": {
  "kernelspec": {
   "display_name": "R",
   "language": "R",
   "name": "ir"
  },
  "language_info": {
   "codemirror_mode": "r",
   "file_extension": ".r",
   "mimetype": "text/x-r-source",
   "name": "R",
   "pygments_lexer": "r",
   "version": "4.1.3"
  }
 },
 "nbformat": 4,
 "nbformat_minor": 5
}
