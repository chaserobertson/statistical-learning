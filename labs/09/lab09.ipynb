{
 "cells": [
  {
   "cell_type": "markdown",
   "id": "d344e80e",
   "metadata": {},
   "source": [
    "# Task 1:  \n",
    "Use ranger() to predict remote working, and compute the confusion matrix (using the full data set for both)"
   ]
  },
  {
   "cell_type": "code",
   "execution_count": 1,
   "id": "d7e46434",
   "metadata": {},
   "outputs": [
    {
     "data": {
      "text/plain": [
       "Ranger result\n",
       "\n",
       "Call:\n",
       " ranger(remote ~ ., data = so, classification = T, importance = \"permutation\") \n",
       "\n",
       "Type:                             Classification \n",
       "Number of trees:                  500 \n",
       "Sample size:                      6991 \n",
       "Number of independent variables:  20 \n",
       "Mtry:                             4 \n",
       "Target node size:                 1 \n",
       "Variable importance mode:         permutation \n",
       "Splitrule:                        gini \n",
       "OOB prediction error:             10.37 % "
      ]
     },
     "metadata": {},
     "output_type": "display_data"
    }
   ],
   "source": [
    "library(ranger)\n",
    "\n",
    "so <- read.csv('stack_overflow.csv')\n",
    "so$remote <- factor(as.integer(so$remote == 'Remote'))\n",
    "so$respondent <- NULL\n",
    "\n",
    "r <- ranger(remote ~ ., data=so, classification=T, importance='permutation')\n",
    "r"
   ]
  },
  {
   "cell_type": "code",
   "execution_count": 2,
   "id": "f0b4c250",
   "metadata": {},
   "outputs": [
    {
     "data": {
      "text/plain": [
       "      pred\n",
       "actual    0    1\n",
       "     0 6273    0\n",
       "     1  285  433"
      ]
     },
     "metadata": {},
     "output_type": "display_data"
    }
   ],
   "source": [
    "table(actual=so$remote, pred=predict(r, data=so)$predictions)"
   ]
  },
  {
   "cell_type": "markdown",
   "id": "39b02c81",
   "metadata": {},
   "source": [
    "# Task 2:  \n",
    "Using permutation importance, what were the most important six variables? Based on the definition of permutation importance, what does a negative importance mean?"
   ]
  },
  {
   "cell_type": "code",
   "execution_count": 3,
   "id": "a3a9fcbd",
   "metadata": {},
   "outputs": [
    {
     "data": {
      "text/html": [
       "<style>\n",
       ".dl-inline {width: auto; margin:0; padding: 0}\n",
       ".dl-inline>dt, .dl-inline>dd {float: none; width: auto; display: inline-block}\n",
       ".dl-inline>dt::after {content: \":\\0020\"; padding-right: .5ex}\n",
       ".dl-inline>dt:not(:first-of-type) {padding-left: .5ex}\n",
       "</style><dl class=dl-inline><dt>salary</dt><dd>0.0179705921988098</dd><dt>country</dt><dd>0.0121064758770708</dd><dt>company_size_number</dt><dd>0.00583663431735456</dd><dt>years_coded_job</dt><dd>0.00324821426749432</dd><dt>web_developer</dt><dd>0.00106938282765616</dd><dt>database_administrator</dt><dd>0.000745385639665894</dd></dl>\n"
      ],
      "text/latex": [
       "\\begin{description*}\n",
       "\\item[salary] 0.0179705921988098\n",
       "\\item[country] 0.0121064758770708\n",
       "\\item[company\\textbackslash{}\\_size\\textbackslash{}\\_number] 0.00583663431735456\n",
       "\\item[years\\textbackslash{}\\_coded\\textbackslash{}\\_job] 0.00324821426749432\n",
       "\\item[web\\textbackslash{}\\_developer] 0.00106938282765616\n",
       "\\item[database\\textbackslash{}\\_administrator] 0.000745385639665894\n",
       "\\end{description*}\n"
      ],
      "text/markdown": [
       "salary\n",
       ":   0.0179705921988098country\n",
       ":   0.0121064758770708company_size_number\n",
       ":   0.00583663431735456years_coded_job\n",
       ":   0.00324821426749432web_developer\n",
       ":   0.00106938282765616database_administrator\n",
       ":   0.000745385639665894\n",
       "\n"
      ],
      "text/plain": [
       "                salary                country    company_size_number \n",
       "          0.0179705922           0.0121064759           0.0058366343 \n",
       "       years_coded_job          web_developer database_administrator \n",
       "          0.0032482143           0.0010693828           0.0007453856 "
      ]
     },
     "metadata": {},
     "output_type": "display_data"
    }
   ],
   "source": [
    "i <- importance(r)\n",
    "i <- i[order(-i)]\n",
    "i[1:6]"
   ]
  },
  {
   "cell_type": "markdown",
   "id": "c2514556",
   "metadata": {},
   "source": [
    "Permutation importance is the increase in error between the forest trained on all variables vs the forest trained without that variable, thus a negative importance would indicate a decrease in error having dropped that variable."
   ]
  },
  {
   "cell_type": "markdown",
   "id": "69ec8b00",
   "metadata": {},
   "source": [
    "# Task 3:  \n",
    "Only about 10% of developers work remotely. Use the class.weights option of ranger() to reweight the two possible outcomes so that the total weight for the remote workers is the same as for the non-remote workers, and compute the new confusion matrix. "
   ]
  },
  {
   "cell_type": "code",
   "execution_count": 4,
   "id": "5f428d94",
   "metadata": {},
   "outputs": [
    {
     "data": {
      "text/plain": [
       "      pred\n",
       "actual    0    1\n",
       "     0 6228   45\n",
       "     1    6  712"
      ]
     },
     "metadata": {},
     "output_type": "display_data"
    }
   ],
   "source": [
    "r2 <- ranger(factor(remote) ~ ., data=so, classification=T, \n",
    "            importance='permutation', class.weights=c(1, 6273/718))\n",
    "\n",
    "table(actual=so$remote, pred=predict(r2, so)$predictions)"
   ]
  },
  {
   "cell_type": "markdown",
   "id": "1b84af15",
   "metadata": {},
   "source": [
    "# Task 4:  \n",
    "Using permutation importance, what were the most important six variables -- have these changed from the unweighted fit? Graph or tabulate the outcome against these six variables and comment on the relationships"
   ]
  },
  {
   "cell_type": "code",
   "execution_count": 5,
   "id": "5327b166",
   "metadata": {},
   "outputs": [
    {
     "data": {
      "text/html": [
       "<style>\n",
       ".list-inline {list-style: none; margin:0; padding: 0}\n",
       ".list-inline>li {display: inline-block}\n",
       ".list-inline>li:not(:last-child)::after {content: \"\\00b7\"; padding: 0 .5ex}\n",
       "</style>\n",
       "<ol class=list-inline><li>'salary'</li><li>'country'</li><li>'company_size_number'</li><li>'open_source'</li><li>'years_coded_job'</li><li>'graphics_programming'</li></ol>\n"
      ],
      "text/latex": [
       "\\begin{enumerate*}\n",
       "\\item 'salary'\n",
       "\\item 'country'\n",
       "\\item 'company\\_size\\_number'\n",
       "\\item 'open\\_source'\n",
       "\\item 'years\\_coded\\_job'\n",
       "\\item 'graphics\\_programming'\n",
       "\\end{enumerate*}\n"
      ],
      "text/markdown": [
       "1. 'salary'\n",
       "2. 'country'\n",
       "3. 'company_size_number'\n",
       "4. 'open_source'\n",
       "5. 'years_coded_job'\n",
       "6. 'graphics_programming'\n",
       "\n",
       "\n"
      ],
      "text/plain": [
       "[1] \"salary\"               \"country\"              \"company_size_number\" \n",
       "[4] \"open_source\"          \"years_coded_job\"      \"graphics_programming\""
      ]
     },
     "metadata": {},
     "output_type": "display_data"
    },
    {
     "data": {
      "text/html": [
       "<style>\n",
       ".list-inline {list-style: none; margin:0; padding: 0}\n",
       ".list-inline>li {display: inline-block}\n",
       ".list-inline>li:not(:last-child)::after {content: \"\\00b7\"; padding: 0 .5ex}\n",
       "</style>\n",
       "<ol class=list-inline><li>'salary'</li><li>'country'</li><li>'company_size_number'</li><li>'years_coded_job'</li><li>'web_developer'</li><li>'database_administrator'</li></ol>\n"
      ],
      "text/latex": [
       "\\begin{enumerate*}\n",
       "\\item 'salary'\n",
       "\\item 'country'\n",
       "\\item 'company\\_size\\_number'\n",
       "\\item 'years\\_coded\\_job'\n",
       "\\item 'web\\_developer'\n",
       "\\item 'database\\_administrator'\n",
       "\\end{enumerate*}\n"
      ],
      "text/markdown": [
       "1. 'salary'\n",
       "2. 'country'\n",
       "3. 'company_size_number'\n",
       "4. 'years_coded_job'\n",
       "5. 'web_developer'\n",
       "6. 'database_administrator'\n",
       "\n",
       "\n"
      ],
      "text/plain": [
       "[1] \"salary\"                 \"country\"                \"company_size_number\"   \n",
       "[4] \"years_coded_job\"        \"web_developer\"          \"database_administrator\""
      ]
     },
     "metadata": {},
     "output_type": "display_data"
    }
   ],
   "source": [
    "i2 <- importance(r2)\n",
    "i2 <- i2[order(-i2)]\n",
    "names(i2[1:6])\n",
    "names(i[1:6])"
   ]
  },
  {
   "cell_type": "code",
   "execution_count": 6,
   "id": "e8b14aee",
   "metadata": {},
   "outputs": [
    {
     "data": {
      "image/png": "[encoded data removed]",
      "text/plain": [
       "Plot with title “next 3 weighted”"
      ]
     },
     "metadata": {
      "image/png": {
       "height": 420,
       "width": 420
      }
     },
     "output_type": "display_data"
    }
   ],
   "source": [
    "par(mfrow=c(4, 1), mar=c(3, 3, 3, 0))\n",
    "barplot(i[1:3], col='red', main='top 3 unweighted')\n",
    "barplot(i2[1:3], col='blue', main='top 3 weighted')\n",
    "\n",
    "barplot(i[4:6], col='red', main='next 3 unweighted')\n",
    "barplot(i2[4:6], col='blue', main='next 3 weighted')"
   ]
  },
  {
   "cell_type": "markdown",
   "id": "a3413c76",
   "metadata": {},
   "source": [
    "Open source is much higher ranked as an indicator in the weighted model."
   ]
  },
  {
   "cell_type": "markdown",
   "id": "b6fd5fca",
   "metadata": {},
   "source": [
    "# Task 5: \n",
    "Describe the impact of weighting (how has the accuracy changed for remote workers, how has it changed for non-remote workers)."
   ]
  },
  {
   "cell_type": "markdown",
   "id": "05a12845",
   "metadata": {},
   "source": [
    "Weighting has greatly improved accuracy for remote workers, the minority class. Accuracy has also improved for the majority class, because there are now fewer false positives."
   ]
  }
 ],
 "metadata": {
  "kernelspec": {
   "display_name": "R",
   "language": "R",
   "name": "ir"
  },
  "language_info": {
   "codemirror_mode": "r",
   "file_extension": ".r",
   "mimetype": "text/x-r-source",
   "name": "R",
   "pygments_lexer": "r",
   "version": "4.1.3"
  }
 },
 "nbformat": 4,
 "nbformat_minor": 5
}
