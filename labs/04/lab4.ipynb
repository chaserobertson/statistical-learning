{
 "cells": [
  {
   "cell_type": "markdown",
   "id": "5bc64ba7",
   "metadata": {},
   "source": [
    "# Task 1: Generate random row indices\n",
    "Read in the data and create a random sample of 500 row indices with your own student_ID."
   ]
  },
  {
   "cell_type": "code",
   "execution_count": 2,
   "id": "36307b15",
   "metadata": {},
   "outputs": [
    {
     "name": "stderr",
     "output_type": "stream",
     "text": [
      "── \u001b[1mAttaching packages\u001b[22m ─────────────────────────────────────────────────────────── tidyverse 1.3.1 ──\n",
      "\n",
      "\u001b[32m✔\u001b[39m \u001b[34mggplot2\u001b[39m 3.3.5     \u001b[32m✔\u001b[39m \u001b[34mpurrr  \u001b[39m 0.3.4\n",
      "\u001b[32m✔\u001b[39m \u001b[34mtibble \u001b[39m 3.1.6     \u001b[32m✔\u001b[39m \u001b[34mdplyr  \u001b[39m 1.0.8\n",
      "\u001b[32m✔\u001b[39m \u001b[34mtidyr  \u001b[39m 1.2.0     \u001b[32m✔\u001b[39m \u001b[34mstringr\u001b[39m 1.4.0\n",
      "\u001b[32m✔\u001b[39m \u001b[34mreadr  \u001b[39m 2.1.2     \u001b[32m✔\u001b[39m \u001b[34mforcats\u001b[39m 0.5.1\n",
      "\n",
      "── \u001b[1mConflicts\u001b[22m ────────────────────────────────────────────────────────────── tidyverse_conflicts() ──\n",
      "\u001b[31m✖\u001b[39m \u001b[34mdplyr\u001b[39m::\u001b[32mfilter()\u001b[39m masks \u001b[34mstats\u001b[39m::filter()\n",
      "\u001b[31m✖\u001b[39m \u001b[34mdplyr\u001b[39m::\u001b[32mlag()\u001b[39m    masks \u001b[34mstats\u001b[39m::lag()\n",
      "\n"
     ]
    }
   ],
   "source": [
    "library(tidyverse)\n",
    "segmm <- read.csv(\"sgemm_product.csv\")\n",
    "segmm <- segmm %>% \n",
    "    rename(Run1 = Run1..ms.) %>% \n",
    "    rename(Run2 = Run2..ms.) %>% \n",
    "    rename(Run3 = Run3..ms.) %>% \n",
    "    rename(Run4 = Run4..ms.)\n",
    "\n",
    "set.seed(686249907)\n",
    "my_sample <- sample(1:nrow(segmm), 500)"
   ]
  },
  {
   "cell_type": "markdown",
   "id": "3cb44336",
   "metadata": {},
   "source": [
    "# Task 2: Backward stepwise selection\n",
    "## Step 2.1: calculate log(time) for run 1\n",
    "Use run 1 as an example, calculate log(time) for run 1 for the entire data set, excludes non relevant columns (e.g. the original run1 time, and other runs’ time), and then subset to 500 rows by the random indices generated."
   ]
  },
  {
   "cell_type": "code",
   "execution_count": 3,
   "id": "7fa23c9b",
   "metadata": {},
   "outputs": [
    {
     "data": {
      "text/html": [
       "<table class=\"dataframe\">\n",
       "<caption>A data.frame: 500 × 15</caption>\n",
       "<thead>\n",
       "\t<tr><th></th><th scope=col>MWG</th><th scope=col>NWG</th><th scope=col>KWG</th><th scope=col>MDIMC</th><th scope=col>NDIMC</th><th scope=col>MDIMA</th><th scope=col>NDIMB</th><th scope=col>KWI</th><th scope=col>VWM</th><th scope=col>VWN</th><th scope=col>STRM</th><th scope=col>STRN</th><th scope=col>SA</th><th scope=col>SB</th><th scope=col>logrun1</th></tr>\n",
       "\t<tr><th></th><th scope=col>&lt;int&gt;</th><th scope=col>&lt;int&gt;</th><th scope=col>&lt;int&gt;</th><th scope=col>&lt;int&gt;</th><th scope=col>&lt;int&gt;</th><th scope=col>&lt;int&gt;</th><th scope=col>&lt;int&gt;</th><th scope=col>&lt;int&gt;</th><th scope=col>&lt;int&gt;</th><th scope=col>&lt;int&gt;</th><th scope=col>&lt;int&gt;</th><th scope=col>&lt;int&gt;</th><th scope=col>&lt;int&gt;</th><th scope=col>&lt;int&gt;</th><th scope=col>&lt;dbl&gt;</th></tr>\n",
       "</thead>\n",
       "<tbody>\n",
       "\t<tr><th scope=row>186893</th><td>128</td><td> 64</td><td>32</td><td> 8</td><td>16</td><td>32</td><td> 8</td><td>2</td><td>1</td><td>4</td><td>1</td><td>1</td><td>0</td><td>0</td><td>5.444148</td></tr>\n",
       "\t<tr><th scope=row>187802</th><td>128</td><td> 64</td><td>32</td><td> 8</td><td>32</td><td> 8</td><td> 8</td><td>8</td><td>2</td><td>2</td><td>1</td><td>0</td><td>0</td><td>1</td><td>3.792564</td></tr>\n",
       "\t<tr><th scope=row>193312</th><td>128</td><td> 64</td><td>32</td><td>16</td><td>16</td><td> 8</td><td>16</td><td>2</td><td>1</td><td>2</td><td>1</td><td>1</td><td>1</td><td>1</td><td>3.570659</td></tr>\n",
       "\t<tr><th scope=row>195514</th><td>128</td><td> 64</td><td>32</td><td>16</td><td>16</td><td>32</td><td>16</td><td>8</td><td>4</td><td>4</td><td>1</td><td>0</td><td>0</td><td>1</td><td>3.656098</td></tr>\n",
       "\t<tr><th scope=row>17244</th><td> 16</td><td>128</td><td>32</td><td> 8</td><td>32</td><td>16</td><td>16</td><td>8</td><td>1</td><td>4</td><td>1</td><td>0</td><td>1</td><td>1</td><td>3.845670</td></tr>\n",
       "\t<tr><th scope=row>126673</th><td> 64</td><td>128</td><td>32</td><td> 8</td><td>16</td><td> 8</td><td> 8</td><td>8</td><td>4</td><td>8</td><td>0</td><td>0</td><td>0</td><td>0</td><td>5.632931</td></tr>\n",
       "\t<tr><th scope=row>15845</th><td> 16</td><td>128</td><td>32</td><td> 8</td><td>16</td><td> 8</td><td>16</td><td>8</td><td>1</td><td>4</td><td>0</td><td>1</td><td>0</td><td>0</td><td>3.684871</td></tr>\n",
       "\t<tr><th scope=row>45387</th><td> 32</td><td> 64</td><td>32</td><td>16</td><td>32</td><td>32</td><td>32</td><td>2</td><td>1</td><td>1</td><td>1</td><td>0</td><td>1</td><td>0</td><td>4.074142</td></tr>\n",
       "\t<tr><th scope=row>28469</th><td> 32</td><td> 32</td><td>32</td><td> 8</td><td>16</td><td>32</td><td> 8</td><td>8</td><td>1</td><td>2</td><td>0</td><td>1</td><td>0</td><td>0</td><td>4.220390</td></tr>\n",
       "\t<tr><th scope=row>66777</th><td> 64</td><td> 16</td><td>16</td><td> 8</td><td> 8</td><td>16</td><td> 8</td><td>8</td><td>4</td><td>2</td><td>1</td><td>0</td><td>0</td><td>0</td><td>3.664331</td></tr>\n",
       "\t<tr><th scope=row>182958</th><td>128</td><td> 64</td><td>32</td><td> 8</td><td> 8</td><td>16</td><td> 8</td><td>2</td><td>4</td><td>4</td><td>1</td><td>1</td><td>0</td><td>1</td><td>6.447132</td></tr>\n",
       "\t<tr><th scope=row>77956</th><td> 64</td><td> 32</td><td>16</td><td>32</td><td> 8</td><td>32</td><td>16</td><td>8</td><td>1</td><td>1</td><td>0</td><td>0</td><td>1</td><td>1</td><td>3.752793</td></tr>\n",
       "\t<tr><th scope=row>46856</th><td> 32</td><td>128</td><td>16</td><td> 8</td><td> 8</td><td> 8</td><td> 8</td><td>2</td><td>4</td><td>4</td><td>0</td><td>1</td><td>1</td><td>1</td><td>5.202247</td></tr>\n",
       "\t<tr><th scope=row>89533</th><td> 64</td><td> 64</td><td>16</td><td> 8</td><td>16</td><td> 8</td><td> 8</td><td>2</td><td>1</td><td>2</td><td>1</td><td>1</td><td>0</td><td>0</td><td>3.612538</td></tr>\n",
       "\t<tr><th scope=row>111320</th><td> 64</td><td>128</td><td>16</td><td> 8</td><td> 8</td><td> 8</td><td>16</td><td>2</td><td>8</td><td>8</td><td>0</td><td>1</td><td>1</td><td>1</td><td>6.452144</td></tr>\n",
       "\t<tr><th scope=row>15491</th><td> 16</td><td>128</td><td>32</td><td> 8</td><td>16</td><td> 8</td><td> 8</td><td>2</td><td>2</td><td>1</td><td>0</td><td>0</td><td>1</td><td>0</td><td>4.174387</td></tr>\n",
       "\t<tr><th scope=row>170475</th><td>128</td><td> 64</td><td>16</td><td> 8</td><td> 8</td><td>16</td><td> 8</td><td>2</td><td>8</td><td>1</td><td>1</td><td>0</td><td>1</td><td>0</td><td>6.409369</td></tr>\n",
       "\t<tr><th scope=row>110233</th><td> 64</td><td> 64</td><td>32</td><td>32</td><td>16</td><td>32</td><td>16</td><td>8</td><td>1</td><td>2</td><td>1</td><td>0</td><td>0</td><td>0</td><td>3.959288</td></tr>\n",
       "\t<tr><th scope=row>171089</th><td>128</td><td> 64</td><td>16</td><td> 8</td><td> 8</td><td>16</td><td>16</td><td>8</td><td>4</td><td>2</td><td>0</td><td>0</td><td>0</td><td>0</td><td>6.215907</td></tr>\n",
       "\t<tr><th scope=row>121550</th><td> 64</td><td>128</td><td>16</td><td>16</td><td>16</td><td>32</td><td>16</td><td>8</td><td>2</td><td>1</td><td>1</td><td>1</td><td>0</td><td>1</td><td>3.217275</td></tr>\n",
       "\t<tr><th scope=row>42684</th><td> 32</td><td> 64</td><td>32</td><td>16</td><td> 8</td><td> 8</td><td>16</td><td>2</td><td>2</td><td>4</td><td>1</td><td>0</td><td>1</td><td>1</td><td>3.425890</td></tr>\n",
       "\t<tr><th scope=row>181978</th><td>128</td><td> 64</td><td>32</td><td> 8</td><td> 8</td><td> 8</td><td> 8</td><td>8</td><td>2</td><td>2</td><td>1</td><td>0</td><td>0</td><td>1</td><td>6.732449</td></tr>\n",
       "\t<tr><th scope=row>87353</th><td> 64</td><td> 64</td><td>16</td><td> 8</td><td> 8</td><td> 8</td><td> 8</td><td>8</td><td>4</td><td>8</td><td>1</td><td>0</td><td>0</td><td>0</td><td>5.624992</td></tr>\n",
       "\t<tr><th scope=row>175715</th><td>128</td><td> 64</td><td>16</td><td> 8</td><td>32</td><td>32</td><td>16</td><td>8</td><td>1</td><td>1</td><td>0</td><td>0</td><td>1</td><td>0</td><td>3.610107</td></tr>\n",
       "\t<tr><th scope=row>118973</th><td> 64</td><td>128</td><td>16</td><td>16</td><td> 8</td><td>16</td><td> 8</td><td>2</td><td>1</td><td>8</td><td>1</td><td>1</td><td>0</td><td>0</td><td>5.703082</td></tr>\n",
       "\t<tr><th scope=row>222448</th><td>128</td><td>128</td><td>32</td><td> 8</td><td>16</td><td>16</td><td> 8</td><td>8</td><td>2</td><td>4</td><td>1</td><td>1</td><td>1</td><td>1</td><td>7.064597</td></tr>\n",
       "\t<tr><th scope=row>111022</th><td> 64</td><td>128</td><td>16</td><td> 8</td><td> 8</td><td> 8</td><td> 8</td><td>8</td><td>8</td><td>1</td><td>1</td><td>1</td><td>0</td><td>1</td><td>6.627261</td></tr>\n",
       "\t<tr><th scope=row>203822</th><td>128</td><td>128</td><td>16</td><td> 8</td><td> 8</td><td>32</td><td>16</td><td>8</td><td>2</td><td>1</td><td>1</td><td>1</td><td>0</td><td>1</td><td>7.015308</td></tr>\n",
       "\t<tr><th scope=row>55318</th><td> 32</td><td>128</td><td>32</td><td> 8</td><td> 8</td><td> 8</td><td>16</td><td>8</td><td>4</td><td>8</td><td>0</td><td>1</td><td>0</td><td>1</td><td>5.208064</td></tr>\n",
       "\t<tr><th scope=row>233010</th><td>128</td><td>128</td><td>32</td><td>16</td><td>16</td><td>16</td><td> 8</td><td>2</td><td>1</td><td>2</td><td>0</td><td>0</td><td>0</td><td>1</td><td>5.303404</td></tr>\n",
       "\t<tr><th scope=row>⋮</th><td>⋮</td><td>⋮</td><td>⋮</td><td>⋮</td><td>⋮</td><td>⋮</td><td>⋮</td><td>⋮</td><td>⋮</td><td>⋮</td><td>⋮</td><td>⋮</td><td>⋮</td><td>⋮</td><td>⋮</td></tr>\n",
       "\t<tr><th scope=row>111897</th><td> 64</td><td>128</td><td>16</td><td> 8</td><td> 8</td><td> 8</td><td>32</td><td>8</td><td>4</td><td>2</td><td>1</td><td>0</td><td>0</td><td>0</td><td>6.140359</td></tr>\n",
       "\t<tr><th scope=row>183505</th><td>128</td><td> 64</td><td>32</td><td> 8</td><td> 8</td><td>16</td><td>16</td><td>8</td><td>1</td><td>2</td><td>0</td><td>0</td><td>0</td><td>0</td><td>6.199677</td></tr>\n",
       "\t<tr><th scope=row>115156</th><td> 64</td><td>128</td><td>16</td><td> 8</td><td>16</td><td>16</td><td> 8</td><td>2</td><td>1</td><td>2</td><td>0</td><td>0</td><td>1</td><td>1</td><td>4.800572</td></tr>\n",
       "\t<tr><th scope=row>178767</th><td>128</td><td> 64</td><td>16</td><td>16</td><td> 8</td><td>32</td><td>16</td><td>2</td><td>2</td><td>2</td><td>1</td><td>1</td><td>1</td><td>0</td><td>5.651647</td></tr>\n",
       "\t<tr><th scope=row>160236</th><td>128</td><td> 32</td><td>32</td><td> 8</td><td>16</td><td>16</td><td> 8</td><td>2</td><td>1</td><td>1</td><td>1</td><td>0</td><td>1</td><td>1</td><td>3.925729</td></tr>\n",
       "\t<tr><th scope=row>16050</th><td> 16</td><td>128</td><td>32</td><td> 8</td><td>16</td><td> 8</td><td>32</td><td>8</td><td>1</td><td>2</td><td>0</td><td>0</td><td>0</td><td>1</td><td>4.707366</td></tr>\n",
       "\t<tr><th scope=row>86175</th><td> 64</td><td> 32</td><td>32</td><td>32</td><td> 8</td><td>32</td><td> 8</td><td>2</td><td>2</td><td>4</td><td>1</td><td>1</td><td>1</td><td>0</td><td>3.710152</td></tr>\n",
       "\t<tr><th scope=row>709</th><td> 16</td><td> 16</td><td>32</td><td> 8</td><td> 8</td><td> 8</td><td> 8</td><td>2</td><td>1</td><td>1</td><td>0</td><td>1</td><td>0</td><td>0</td><td>4.740662</td></tr>\n",
       "\t<tr><th scope=row>144897</th><td>128</td><td> 16</td><td>16</td><td>32</td><td> 8</td><td>16</td><td>16</td><td>8</td><td>2</td><td>1</td><td>0</td><td>0</td><td>0</td><td>0</td><td>4.892002</td></tr>\n",
       "\t<tr><th scope=row>83942</th><td> 64</td><td> 32</td><td>32</td><td>16</td><td>16</td><td> 8</td><td>16</td><td>2</td><td>2</td><td>1</td><td>0</td><td>1</td><td>0</td><td>1</td><td>4.213460</td></tr>\n",
       "\t<tr><th scope=row>233576</th><td>128</td><td>128</td><td>32</td><td>16</td><td>16</td><td>16</td><td>16</td><td>2</td><td>2</td><td>1</td><td>0</td><td>1</td><td>1</td><td>1</td><td>5.299666</td></tr>\n",
       "\t<tr><th scope=row>36558</th><td> 32</td><td> 64</td><td>16</td><td>16</td><td> 8</td><td>16</td><td>16</td><td>8</td><td>2</td><td>2</td><td>1</td><td>1</td><td>0</td><td>1</td><td>3.199897</td></tr>\n",
       "\t<tr><th scope=row>47103</th><td> 32</td><td>128</td><td>16</td><td> 8</td><td> 8</td><td> 8</td><td>16</td><td>2</td><td>1</td><td>2</td><td>1</td><td>1</td><td>1</td><td>0</td><td>5.447513</td></tr>\n",
       "\t<tr><th scope=row>72490</th><td> 64</td><td> 32</td><td>16</td><td> 8</td><td> 8</td><td> 8</td><td> 8</td><td>8</td><td>8</td><td>2</td><td>1</td><td>0</td><td>0</td><td>1</td><td>3.739097</td></tr>\n",
       "\t<tr><th scope=row>210102</th><td>128</td><td>128</td><td>16</td><td>16</td><td> 8</td><td> 8</td><td>16</td><td>2</td><td>4</td><td>2</td><td>0</td><td>1</td><td>0</td><td>1</td><td>6.239379</td></tr>\n",
       "\t<tr><th scope=row>9562</th><td> 16</td><td> 64</td><td>32</td><td> 8</td><td>32</td><td> 8</td><td>16</td><td>8</td><td>1</td><td>2</td><td>1</td><td>0</td><td>0</td><td>1</td><td>4.150567</td></tr>\n",
       "\t<tr><th scope=row>169443</th><td>128</td><td> 64</td><td>16</td><td> 8</td><td> 8</td><td> 8</td><td> 8</td><td>8</td><td>2</td><td>1</td><td>0</td><td>0</td><td>1</td><td>0</td><td>6.750177</td></tr>\n",
       "\t<tr><th scope=row>162888</th><td>128</td><td> 32</td><td>32</td><td>16</td><td> 8</td><td> 8</td><td>16</td><td>2</td><td>8</td><td>1</td><td>0</td><td>1</td><td>1</td><td>1</td><td>4.137244</td></tr>\n",
       "\t<tr><th scope=row>725</th><td> 16</td><td> 16</td><td>32</td><td> 8</td><td> 8</td><td> 8</td><td> 8</td><td>2</td><td>1</td><td>2</td><td>0</td><td>1</td><td>0</td><td>0</td><td>4.309053</td></tr>\n",
       "\t<tr><th scope=row>224822</th><td>128</td><td>128</td><td>32</td><td> 8</td><td>32</td><td> 8</td><td> 8</td><td>8</td><td>2</td><td>4</td><td>0</td><td>1</td><td>0</td><td>1</td><td>5.006159</td></tr>\n",
       "\t<tr><th scope=row>96414</th><td> 64</td><td> 64</td><td>16</td><td>32</td><td>16</td><td>32</td><td>32</td><td>8</td><td>1</td><td>2</td><td>1</td><td>1</td><td>0</td><td>1</td><td>3.779634</td></tr>\n",
       "\t<tr><th scope=row>146447</th><td>128</td><td> 16</td><td>32</td><td> 8</td><td>16</td><td>16</td><td> 8</td><td>8</td><td>4</td><td>1</td><td>1</td><td>1</td><td>1</td><td>0</td><td>4.643525</td></tr>\n",
       "\t<tr><th scope=row>81291</th><td> 64</td><td> 32</td><td>32</td><td> 8</td><td>16</td><td>32</td><td>32</td><td>8</td><td>1</td><td>1</td><td>1</td><td>0</td><td>1</td><td>0</td><td>3.848444</td></tr>\n",
       "\t<tr><th scope=row>128470</th><td> 64</td><td>128</td><td>32</td><td> 8</td><td>16</td><td>16</td><td>32</td><td>2</td><td>2</td><td>1</td><td>0</td><td>1</td><td>0</td><td>1</td><td>5.501585</td></tr>\n",
       "\t<tr><th scope=row>94368</th><td> 64</td><td> 64</td><td>16</td><td>16</td><td> 8</td><td>32</td><td> 8</td><td>8</td><td>1</td><td>8</td><td>1</td><td>1</td><td>1</td><td>1</td><td>3.018960</td></tr>\n",
       "\t<tr><th scope=row>182542</th><td>128</td><td> 64</td><td>32</td><td> 8</td><td> 8</td><td> 8</td><td>32</td><td>2</td><td>1</td><td>1</td><td>1</td><td>1</td><td>0</td><td>1</td><td>6.492179</td></tr>\n",
       "\t<tr><th scope=row>225461</th><td>128</td><td>128</td><td>32</td><td> 8</td><td>32</td><td> 8</td><td>32</td><td>2</td><td>8</td><td>1</td><td>0</td><td>1</td><td>0</td><td>0</td><td>5.984163</td></tr>\n",
       "\t<tr><th scope=row>15859</th><td> 16</td><td>128</td><td>32</td><td> 8</td><td>16</td><td> 8</td><td>16</td><td>8</td><td>1</td><td>8</td><td>0</td><td>0</td><td>1</td><td>0</td><td>3.598955</td></tr>\n",
       "\t<tr><th scope=row>116539</th><td> 64</td><td>128</td><td>16</td><td> 8</td><td>16</td><td>32</td><td>16</td><td>2</td><td>2</td><td>2</td><td>1</td><td>0</td><td>1</td><td>0</td><td>5.792190</td></tr>\n",
       "\t<tr><th scope=row>47852</th><td> 32</td><td>128</td><td>16</td><td> 8</td><td> 8</td><td>16</td><td> 8</td><td>2</td><td>2</td><td>4</td><td>1</td><td>0</td><td>1</td><td>1</td><td>5.211833</td></tr>\n",
       "</tbody>\n",
       "</table>\n"
      ],
      "text/latex": [
       "A data.frame: 500 × 15\n",
       "\\begin{tabular}{r|lllllllllllllll}\n",
       "  & MWG & NWG & KWG & MDIMC & NDIMC & MDIMA & NDIMB & KWI & VWM & VWN & STRM & STRN & SA & SB & logrun1\\\\\n",
       "  & <int> & <int> & <int> & <int> & <int> & <int> & <int> & <int> & <int> & <int> & <int> & <int> & <int> & <int> & <dbl>\\\\\n",
       "\\hline\n",
       "\t186893 & 128 &  64 & 32 &  8 & 16 & 32 &  8 & 2 & 1 & 4 & 1 & 1 & 0 & 0 & 5.444148\\\\\n",
       "\t187802 & 128 &  64 & 32 &  8 & 32 &  8 &  8 & 8 & 2 & 2 & 1 & 0 & 0 & 1 & 3.792564\\\\\n",
       "\t193312 & 128 &  64 & 32 & 16 & 16 &  8 & 16 & 2 & 1 & 2 & 1 & 1 & 1 & 1 & 3.570659\\\\\n",
       "\t195514 & 128 &  64 & 32 & 16 & 16 & 32 & 16 & 8 & 4 & 4 & 1 & 0 & 0 & 1 & 3.656098\\\\\n",
       "\t17244 &  16 & 128 & 32 &  8 & 32 & 16 & 16 & 8 & 1 & 4 & 1 & 0 & 1 & 1 & 3.845670\\\\\n",
       "\t126673 &  64 & 128 & 32 &  8 & 16 &  8 &  8 & 8 & 4 & 8 & 0 & 0 & 0 & 0 & 5.632931\\\\\n",
       "\t15845 &  16 & 128 & 32 &  8 & 16 &  8 & 16 & 8 & 1 & 4 & 0 & 1 & 0 & 0 & 3.684871\\\\\n",
       "\t45387 &  32 &  64 & 32 & 16 & 32 & 32 & 32 & 2 & 1 & 1 & 1 & 0 & 1 & 0 & 4.074142\\\\\n",
       "\t28469 &  32 &  32 & 32 &  8 & 16 & 32 &  8 & 8 & 1 & 2 & 0 & 1 & 0 & 0 & 4.220390\\\\\n",
       "\t66777 &  64 &  16 & 16 &  8 &  8 & 16 &  8 & 8 & 4 & 2 & 1 & 0 & 0 & 0 & 3.664331\\\\\n",
       "\t182958 & 128 &  64 & 32 &  8 &  8 & 16 &  8 & 2 & 4 & 4 & 1 & 1 & 0 & 1 & 6.447132\\\\\n",
       "\t77956 &  64 &  32 & 16 & 32 &  8 & 32 & 16 & 8 & 1 & 1 & 0 & 0 & 1 & 1 & 3.752793\\\\\n",
       "\t46856 &  32 & 128 & 16 &  8 &  8 &  8 &  8 & 2 & 4 & 4 & 0 & 1 & 1 & 1 & 5.202247\\\\\n",
       "\t89533 &  64 &  64 & 16 &  8 & 16 &  8 &  8 & 2 & 1 & 2 & 1 & 1 & 0 & 0 & 3.612538\\\\\n",
       "\t111320 &  64 & 128 & 16 &  8 &  8 &  8 & 16 & 2 & 8 & 8 & 0 & 1 & 1 & 1 & 6.452144\\\\\n",
       "\t15491 &  16 & 128 & 32 &  8 & 16 &  8 &  8 & 2 & 2 & 1 & 0 & 0 & 1 & 0 & 4.174387\\\\\n",
       "\t170475 & 128 &  64 & 16 &  8 &  8 & 16 &  8 & 2 & 8 & 1 & 1 & 0 & 1 & 0 & 6.409369\\\\\n",
       "\t110233 &  64 &  64 & 32 & 32 & 16 & 32 & 16 & 8 & 1 & 2 & 1 & 0 & 0 & 0 & 3.959288\\\\\n",
       "\t171089 & 128 &  64 & 16 &  8 &  8 & 16 & 16 & 8 & 4 & 2 & 0 & 0 & 0 & 0 & 6.215907\\\\\n",
       "\t121550 &  64 & 128 & 16 & 16 & 16 & 32 & 16 & 8 & 2 & 1 & 1 & 1 & 0 & 1 & 3.217275\\\\\n",
       "\t42684 &  32 &  64 & 32 & 16 &  8 &  8 & 16 & 2 & 2 & 4 & 1 & 0 & 1 & 1 & 3.425890\\\\\n",
       "\t181978 & 128 &  64 & 32 &  8 &  8 &  8 &  8 & 8 & 2 & 2 & 1 & 0 & 0 & 1 & 6.732449\\\\\n",
       "\t87353 &  64 &  64 & 16 &  8 &  8 &  8 &  8 & 8 & 4 & 8 & 1 & 0 & 0 & 0 & 5.624992\\\\\n",
       "\t175715 & 128 &  64 & 16 &  8 & 32 & 32 & 16 & 8 & 1 & 1 & 0 & 0 & 1 & 0 & 3.610107\\\\\n",
       "\t118973 &  64 & 128 & 16 & 16 &  8 & 16 &  8 & 2 & 1 & 8 & 1 & 1 & 0 & 0 & 5.703082\\\\\n",
       "\t222448 & 128 & 128 & 32 &  8 & 16 & 16 &  8 & 8 & 2 & 4 & 1 & 1 & 1 & 1 & 7.064597\\\\\n",
       "\t111022 &  64 & 128 & 16 &  8 &  8 &  8 &  8 & 8 & 8 & 1 & 1 & 1 & 0 & 1 & 6.627261\\\\\n",
       "\t203822 & 128 & 128 & 16 &  8 &  8 & 32 & 16 & 8 & 2 & 1 & 1 & 1 & 0 & 1 & 7.015308\\\\\n",
       "\t55318 &  32 & 128 & 32 &  8 &  8 &  8 & 16 & 8 & 4 & 8 & 0 & 1 & 0 & 1 & 5.208064\\\\\n",
       "\t233010 & 128 & 128 & 32 & 16 & 16 & 16 &  8 & 2 & 1 & 2 & 0 & 0 & 0 & 1 & 5.303404\\\\\n",
       "\t⋮ & ⋮ & ⋮ & ⋮ & ⋮ & ⋮ & ⋮ & ⋮ & ⋮ & ⋮ & ⋮ & ⋮ & ⋮ & ⋮ & ⋮ & ⋮\\\\\n",
       "\t111897 &  64 & 128 & 16 &  8 &  8 &  8 & 32 & 8 & 4 & 2 & 1 & 0 & 0 & 0 & 6.140359\\\\\n",
       "\t183505 & 128 &  64 & 32 &  8 &  8 & 16 & 16 & 8 & 1 & 2 & 0 & 0 & 0 & 0 & 6.199677\\\\\n",
       "\t115156 &  64 & 128 & 16 &  8 & 16 & 16 &  8 & 2 & 1 & 2 & 0 & 0 & 1 & 1 & 4.800572\\\\\n",
       "\t178767 & 128 &  64 & 16 & 16 &  8 & 32 & 16 & 2 & 2 & 2 & 1 & 1 & 1 & 0 & 5.651647\\\\\n",
       "\t160236 & 128 &  32 & 32 &  8 & 16 & 16 &  8 & 2 & 1 & 1 & 1 & 0 & 1 & 1 & 3.925729\\\\\n",
       "\t16050 &  16 & 128 & 32 &  8 & 16 &  8 & 32 & 8 & 1 & 2 & 0 & 0 & 0 & 1 & 4.707366\\\\\n",
       "\t86175 &  64 &  32 & 32 & 32 &  8 & 32 &  8 & 2 & 2 & 4 & 1 & 1 & 1 & 0 & 3.710152\\\\\n",
       "\t709 &  16 &  16 & 32 &  8 &  8 &  8 &  8 & 2 & 1 & 1 & 0 & 1 & 0 & 0 & 4.740662\\\\\n",
       "\t144897 & 128 &  16 & 16 & 32 &  8 & 16 & 16 & 8 & 2 & 1 & 0 & 0 & 0 & 0 & 4.892002\\\\\n",
       "\t83942 &  64 &  32 & 32 & 16 & 16 &  8 & 16 & 2 & 2 & 1 & 0 & 1 & 0 & 1 & 4.213460\\\\\n",
       "\t233576 & 128 & 128 & 32 & 16 & 16 & 16 & 16 & 2 & 2 & 1 & 0 & 1 & 1 & 1 & 5.299666\\\\\n",
       "\t36558 &  32 &  64 & 16 & 16 &  8 & 16 & 16 & 8 & 2 & 2 & 1 & 1 & 0 & 1 & 3.199897\\\\\n",
       "\t47103 &  32 & 128 & 16 &  8 &  8 &  8 & 16 & 2 & 1 & 2 & 1 & 1 & 1 & 0 & 5.447513\\\\\n",
       "\t72490 &  64 &  32 & 16 &  8 &  8 &  8 &  8 & 8 & 8 & 2 & 1 & 0 & 0 & 1 & 3.739097\\\\\n",
       "\t210102 & 128 & 128 & 16 & 16 &  8 &  8 & 16 & 2 & 4 & 2 & 0 & 1 & 0 & 1 & 6.239379\\\\\n",
       "\t9562 &  16 &  64 & 32 &  8 & 32 &  8 & 16 & 8 & 1 & 2 & 1 & 0 & 0 & 1 & 4.150567\\\\\n",
       "\t169443 & 128 &  64 & 16 &  8 &  8 &  8 &  8 & 8 & 2 & 1 & 0 & 0 & 1 & 0 & 6.750177\\\\\n",
       "\t162888 & 128 &  32 & 32 & 16 &  8 &  8 & 16 & 2 & 8 & 1 & 0 & 1 & 1 & 1 & 4.137244\\\\\n",
       "\t725 &  16 &  16 & 32 &  8 &  8 &  8 &  8 & 2 & 1 & 2 & 0 & 1 & 0 & 0 & 4.309053\\\\\n",
       "\t224822 & 128 & 128 & 32 &  8 & 32 &  8 &  8 & 8 & 2 & 4 & 0 & 1 & 0 & 1 & 5.006159\\\\\n",
       "\t96414 &  64 &  64 & 16 & 32 & 16 & 32 & 32 & 8 & 1 & 2 & 1 & 1 & 0 & 1 & 3.779634\\\\\n",
       "\t146447 & 128 &  16 & 32 &  8 & 16 & 16 &  8 & 8 & 4 & 1 & 1 & 1 & 1 & 0 & 4.643525\\\\\n",
       "\t81291 &  64 &  32 & 32 &  8 & 16 & 32 & 32 & 8 & 1 & 1 & 1 & 0 & 1 & 0 & 3.848444\\\\\n",
       "\t128470 &  64 & 128 & 32 &  8 & 16 & 16 & 32 & 2 & 2 & 1 & 0 & 1 & 0 & 1 & 5.501585\\\\\n",
       "\t94368 &  64 &  64 & 16 & 16 &  8 & 32 &  8 & 8 & 1 & 8 & 1 & 1 & 1 & 1 & 3.018960\\\\\n",
       "\t182542 & 128 &  64 & 32 &  8 &  8 &  8 & 32 & 2 & 1 & 1 & 1 & 1 & 0 & 1 & 6.492179\\\\\n",
       "\t225461 & 128 & 128 & 32 &  8 & 32 &  8 & 32 & 2 & 8 & 1 & 0 & 1 & 0 & 0 & 5.984163\\\\\n",
       "\t15859 &  16 & 128 & 32 &  8 & 16 &  8 & 16 & 8 & 1 & 8 & 0 & 0 & 1 & 0 & 3.598955\\\\\n",
       "\t116539 &  64 & 128 & 16 &  8 & 16 & 32 & 16 & 2 & 2 & 2 & 1 & 0 & 1 & 0 & 5.792190\\\\\n",
       "\t47852 &  32 & 128 & 16 &  8 &  8 & 16 &  8 & 2 & 2 & 4 & 1 & 0 & 1 & 1 & 5.211833\\\\\n",
       "\\end{tabular}\n"
      ],
      "text/markdown": [
       "\n",
       "A data.frame: 500 × 15\n",
       "\n",
       "| <!--/--> | MWG &lt;int&gt; | NWG &lt;int&gt; | KWG &lt;int&gt; | MDIMC &lt;int&gt; | NDIMC &lt;int&gt; | MDIMA &lt;int&gt; | NDIMB &lt;int&gt; | KWI &lt;int&gt; | VWM &lt;int&gt; | VWN &lt;int&gt; | STRM &lt;int&gt; | STRN &lt;int&gt; | SA &lt;int&gt; | SB &lt;int&gt; | logrun1 &lt;dbl&gt; |\n",
       "|---|---|---|---|---|---|---|---|---|---|---|---|---|---|---|---|\n",
       "| 186893 | 128 |  64 | 32 |  8 | 16 | 32 |  8 | 2 | 1 | 4 | 1 | 1 | 0 | 0 | 5.444148 |\n",
       "| 187802 | 128 |  64 | 32 |  8 | 32 |  8 |  8 | 8 | 2 | 2 | 1 | 0 | 0 | 1 | 3.792564 |\n",
       "| 193312 | 128 |  64 | 32 | 16 | 16 |  8 | 16 | 2 | 1 | 2 | 1 | 1 | 1 | 1 | 3.570659 |\n",
       "| 195514 | 128 |  64 | 32 | 16 | 16 | 32 | 16 | 8 | 4 | 4 | 1 | 0 | 0 | 1 | 3.656098 |\n",
       "| 17244 |  16 | 128 | 32 |  8 | 32 | 16 | 16 | 8 | 1 | 4 | 1 | 0 | 1 | 1 | 3.845670 |\n",
       "| 126673 |  64 | 128 | 32 |  8 | 16 |  8 |  8 | 8 | 4 | 8 | 0 | 0 | 0 | 0 | 5.632931 |\n",
       "| 15845 |  16 | 128 | 32 |  8 | 16 |  8 | 16 | 8 | 1 | 4 | 0 | 1 | 0 | 0 | 3.684871 |\n",
       "| 45387 |  32 |  64 | 32 | 16 | 32 | 32 | 32 | 2 | 1 | 1 | 1 | 0 | 1 | 0 | 4.074142 |\n",
       "| 28469 |  32 |  32 | 32 |  8 | 16 | 32 |  8 | 8 | 1 | 2 | 0 | 1 | 0 | 0 | 4.220390 |\n",
       "| 66777 |  64 |  16 | 16 |  8 |  8 | 16 |  8 | 8 | 4 | 2 | 1 | 0 | 0 | 0 | 3.664331 |\n",
       "| 182958 | 128 |  64 | 32 |  8 |  8 | 16 |  8 | 2 | 4 | 4 | 1 | 1 | 0 | 1 | 6.447132 |\n",
       "| 77956 |  64 |  32 | 16 | 32 |  8 | 32 | 16 | 8 | 1 | 1 | 0 | 0 | 1 | 1 | 3.752793 |\n",
       "| 46856 |  32 | 128 | 16 |  8 |  8 |  8 |  8 | 2 | 4 | 4 | 0 | 1 | 1 | 1 | 5.202247 |\n",
       "| 89533 |  64 |  64 | 16 |  8 | 16 |  8 |  8 | 2 | 1 | 2 | 1 | 1 | 0 | 0 | 3.612538 |\n",
       "| 111320 |  64 | 128 | 16 |  8 |  8 |  8 | 16 | 2 | 8 | 8 | 0 | 1 | 1 | 1 | 6.452144 |\n",
       "| 15491 |  16 | 128 | 32 |  8 | 16 |  8 |  8 | 2 | 2 | 1 | 0 | 0 | 1 | 0 | 4.174387 |\n",
       "| 170475 | 128 |  64 | 16 |  8 |  8 | 16 |  8 | 2 | 8 | 1 | 1 | 0 | 1 | 0 | 6.409369 |\n",
       "| 110233 |  64 |  64 | 32 | 32 | 16 | 32 | 16 | 8 | 1 | 2 | 1 | 0 | 0 | 0 | 3.959288 |\n",
       "| 171089 | 128 |  64 | 16 |  8 |  8 | 16 | 16 | 8 | 4 | 2 | 0 | 0 | 0 | 0 | 6.215907 |\n",
       "| 121550 |  64 | 128 | 16 | 16 | 16 | 32 | 16 | 8 | 2 | 1 | 1 | 1 | 0 | 1 | 3.217275 |\n",
       "| 42684 |  32 |  64 | 32 | 16 |  8 |  8 | 16 | 2 | 2 | 4 | 1 | 0 | 1 | 1 | 3.425890 |\n",
       "| 181978 | 128 |  64 | 32 |  8 |  8 |  8 |  8 | 8 | 2 | 2 | 1 | 0 | 0 | 1 | 6.732449 |\n",
       "| 87353 |  64 |  64 | 16 |  8 |  8 |  8 |  8 | 8 | 4 | 8 | 1 | 0 | 0 | 0 | 5.624992 |\n",
       "| 175715 | 128 |  64 | 16 |  8 | 32 | 32 | 16 | 8 | 1 | 1 | 0 | 0 | 1 | 0 | 3.610107 |\n",
       "| 118973 |  64 | 128 | 16 | 16 |  8 | 16 |  8 | 2 | 1 | 8 | 1 | 1 | 0 | 0 | 5.703082 |\n",
       "| 222448 | 128 | 128 | 32 |  8 | 16 | 16 |  8 | 8 | 2 | 4 | 1 | 1 | 1 | 1 | 7.064597 |\n",
       "| 111022 |  64 | 128 | 16 |  8 |  8 |  8 |  8 | 8 | 8 | 1 | 1 | 1 | 0 | 1 | 6.627261 |\n",
       "| 203822 | 128 | 128 | 16 |  8 |  8 | 32 | 16 | 8 | 2 | 1 | 1 | 1 | 0 | 1 | 7.015308 |\n",
       "| 55318 |  32 | 128 | 32 |  8 |  8 |  8 | 16 | 8 | 4 | 8 | 0 | 1 | 0 | 1 | 5.208064 |\n",
       "| 233010 | 128 | 128 | 32 | 16 | 16 | 16 |  8 | 2 | 1 | 2 | 0 | 0 | 0 | 1 | 5.303404 |\n",
       "| ⋮ | ⋮ | ⋮ | ⋮ | ⋮ | ⋮ | ⋮ | ⋮ | ⋮ | ⋮ | ⋮ | ⋮ | ⋮ | ⋮ | ⋮ | ⋮ |\n",
       "| 111897 |  64 | 128 | 16 |  8 |  8 |  8 | 32 | 8 | 4 | 2 | 1 | 0 | 0 | 0 | 6.140359 |\n",
       "| 183505 | 128 |  64 | 32 |  8 |  8 | 16 | 16 | 8 | 1 | 2 | 0 | 0 | 0 | 0 | 6.199677 |\n",
       "| 115156 |  64 | 128 | 16 |  8 | 16 | 16 |  8 | 2 | 1 | 2 | 0 | 0 | 1 | 1 | 4.800572 |\n",
       "| 178767 | 128 |  64 | 16 | 16 |  8 | 32 | 16 | 2 | 2 | 2 | 1 | 1 | 1 | 0 | 5.651647 |\n",
       "| 160236 | 128 |  32 | 32 |  8 | 16 | 16 |  8 | 2 | 1 | 1 | 1 | 0 | 1 | 1 | 3.925729 |\n",
       "| 16050 |  16 | 128 | 32 |  8 | 16 |  8 | 32 | 8 | 1 | 2 | 0 | 0 | 0 | 1 | 4.707366 |\n",
       "| 86175 |  64 |  32 | 32 | 32 |  8 | 32 |  8 | 2 | 2 | 4 | 1 | 1 | 1 | 0 | 3.710152 |\n",
       "| 709 |  16 |  16 | 32 |  8 |  8 |  8 |  8 | 2 | 1 | 1 | 0 | 1 | 0 | 0 | 4.740662 |\n",
       "| 144897 | 128 |  16 | 16 | 32 |  8 | 16 | 16 | 8 | 2 | 1 | 0 | 0 | 0 | 0 | 4.892002 |\n",
       "| 83942 |  64 |  32 | 32 | 16 | 16 |  8 | 16 | 2 | 2 | 1 | 0 | 1 | 0 | 1 | 4.213460 |\n",
       "| 233576 | 128 | 128 | 32 | 16 | 16 | 16 | 16 | 2 | 2 | 1 | 0 | 1 | 1 | 1 | 5.299666 |\n",
       "| 36558 |  32 |  64 | 16 | 16 |  8 | 16 | 16 | 8 | 2 | 2 | 1 | 1 | 0 | 1 | 3.199897 |\n",
       "| 47103 |  32 | 128 | 16 |  8 |  8 |  8 | 16 | 2 | 1 | 2 | 1 | 1 | 1 | 0 | 5.447513 |\n",
       "| 72490 |  64 |  32 | 16 |  8 |  8 |  8 |  8 | 8 | 8 | 2 | 1 | 0 | 0 | 1 | 3.739097 |\n",
       "| 210102 | 128 | 128 | 16 | 16 |  8 |  8 | 16 | 2 | 4 | 2 | 0 | 1 | 0 | 1 | 6.239379 |\n",
       "| 9562 |  16 |  64 | 32 |  8 | 32 |  8 | 16 | 8 | 1 | 2 | 1 | 0 | 0 | 1 | 4.150567 |\n",
       "| 169443 | 128 |  64 | 16 |  8 |  8 |  8 |  8 | 8 | 2 | 1 | 0 | 0 | 1 | 0 | 6.750177 |\n",
       "| 162888 | 128 |  32 | 32 | 16 |  8 |  8 | 16 | 2 | 8 | 1 | 0 | 1 | 1 | 1 | 4.137244 |\n",
       "| 725 |  16 |  16 | 32 |  8 |  8 |  8 |  8 | 2 | 1 | 2 | 0 | 1 | 0 | 0 | 4.309053 |\n",
       "| 224822 | 128 | 128 | 32 |  8 | 32 |  8 |  8 | 8 | 2 | 4 | 0 | 1 | 0 | 1 | 5.006159 |\n",
       "| 96414 |  64 |  64 | 16 | 32 | 16 | 32 | 32 | 8 | 1 | 2 | 1 | 1 | 0 | 1 | 3.779634 |\n",
       "| 146447 | 128 |  16 | 32 |  8 | 16 | 16 |  8 | 8 | 4 | 1 | 1 | 1 | 1 | 0 | 4.643525 |\n",
       "| 81291 |  64 |  32 | 32 |  8 | 16 | 32 | 32 | 8 | 1 | 1 | 1 | 0 | 1 | 0 | 3.848444 |\n",
       "| 128470 |  64 | 128 | 32 |  8 | 16 | 16 | 32 | 2 | 2 | 1 | 0 | 1 | 0 | 1 | 5.501585 |\n",
       "| 94368 |  64 |  64 | 16 | 16 |  8 | 32 |  8 | 8 | 1 | 8 | 1 | 1 | 1 | 1 | 3.018960 |\n",
       "| 182542 | 128 |  64 | 32 |  8 |  8 |  8 | 32 | 2 | 1 | 1 | 1 | 1 | 0 | 1 | 6.492179 |\n",
       "| 225461 | 128 | 128 | 32 |  8 | 32 |  8 | 32 | 2 | 8 | 1 | 0 | 1 | 0 | 0 | 5.984163 |\n",
       "| 15859 |  16 | 128 | 32 |  8 | 16 |  8 | 16 | 8 | 1 | 8 | 0 | 0 | 1 | 0 | 3.598955 |\n",
       "| 116539 |  64 | 128 | 16 |  8 | 16 | 32 | 16 | 2 | 2 | 2 | 1 | 0 | 1 | 0 | 5.792190 |\n",
       "| 47852 |  32 | 128 | 16 |  8 |  8 | 16 |  8 | 2 | 2 | 4 | 1 | 0 | 1 | 1 | 5.211833 |\n",
       "\n"
      ],
      "text/plain": [
       "       MWG NWG KWG MDIMC NDIMC MDIMA NDIMB KWI VWM VWN STRM STRN SA SB logrun1 \n",
       "186893 128  64 32   8    16    32     8    2   1   4   1    1    0  0  5.444148\n",
       "187802 128  64 32   8    32     8     8    8   2   2   1    0    0  1  3.792564\n",
       "193312 128  64 32  16    16     8    16    2   1   2   1    1    1  1  3.570659\n",
       "195514 128  64 32  16    16    32    16    8   4   4   1    0    0  1  3.656098\n",
       "17244   16 128 32   8    32    16    16    8   1   4   1    0    1  1  3.845670\n",
       "126673  64 128 32   8    16     8     8    8   4   8   0    0    0  0  5.632931\n",
       "15845   16 128 32   8    16     8    16    8   1   4   0    1    0  0  3.684871\n",
       "45387   32  64 32  16    32    32    32    2   1   1   1    0    1  0  4.074142\n",
       "28469   32  32 32   8    16    32     8    8   1   2   0    1    0  0  4.220390\n",
       "66777   64  16 16   8     8    16     8    8   4   2   1    0    0  0  3.664331\n",
       "182958 128  64 32   8     8    16     8    2   4   4   1    1    0  1  6.447132\n",
       "77956   64  32 16  32     8    32    16    8   1   1   0    0    1  1  3.752793\n",
       "46856   32 128 16   8     8     8     8    2   4   4   0    1    1  1  5.202247\n",
       "89533   64  64 16   8    16     8     8    2   1   2   1    1    0  0  3.612538\n",
       "111320  64 128 16   8     8     8    16    2   8   8   0    1    1  1  6.452144\n",
       "15491   16 128 32   8    16     8     8    2   2   1   0    0    1  0  4.174387\n",
       "170475 128  64 16   8     8    16     8    2   8   1   1    0    1  0  6.409369\n",
       "110233  64  64 32  32    16    32    16    8   1   2   1    0    0  0  3.959288\n",
       "171089 128  64 16   8     8    16    16    8   4   2   0    0    0  0  6.215907\n",
       "121550  64 128 16  16    16    32    16    8   2   1   1    1    0  1  3.217275\n",
       "42684   32  64 32  16     8     8    16    2   2   4   1    0    1  1  3.425890\n",
       "181978 128  64 32   8     8     8     8    8   2   2   1    0    0  1  6.732449\n",
       "87353   64  64 16   8     8     8     8    8   4   8   1    0    0  0  5.624992\n",
       "175715 128  64 16   8    32    32    16    8   1   1   0    0    1  0  3.610107\n",
       "118973  64 128 16  16     8    16     8    2   1   8   1    1    0  0  5.703082\n",
       "222448 128 128 32   8    16    16     8    8   2   4   1    1    1  1  7.064597\n",
       "111022  64 128 16   8     8     8     8    8   8   1   1    1    0  1  6.627261\n",
       "203822 128 128 16   8     8    32    16    8   2   1   1    1    0  1  7.015308\n",
       "55318   32 128 32   8     8     8    16    8   4   8   0    1    0  1  5.208064\n",
       "233010 128 128 32  16    16    16     8    2   1   2   0    0    0  1  5.303404\n",
       "⋮      ⋮   ⋮   ⋮   ⋮     ⋮     ⋮     ⋮     ⋮   ⋮   ⋮   ⋮    ⋮    ⋮  ⋮  ⋮       \n",
       "111897  64 128 16   8     8     8    32    8   4   2   1    0    0  0  6.140359\n",
       "183505 128  64 32   8     8    16    16    8   1   2   0    0    0  0  6.199677\n",
       "115156  64 128 16   8    16    16     8    2   1   2   0    0    1  1  4.800572\n",
       "178767 128  64 16  16     8    32    16    2   2   2   1    1    1  0  5.651647\n",
       "160236 128  32 32   8    16    16     8    2   1   1   1    0    1  1  3.925729\n",
       "16050   16 128 32   8    16     8    32    8   1   2   0    0    0  1  4.707366\n",
       "86175   64  32 32  32     8    32     8    2   2   4   1    1    1  0  3.710152\n",
       "709     16  16 32   8     8     8     8    2   1   1   0    1    0  0  4.740662\n",
       "144897 128  16 16  32     8    16    16    8   2   1   0    0    0  0  4.892002\n",
       "83942   64  32 32  16    16     8    16    2   2   1   0    1    0  1  4.213460\n",
       "233576 128 128 32  16    16    16    16    2   2   1   0    1    1  1  5.299666\n",
       "36558   32  64 16  16     8    16    16    8   2   2   1    1    0  1  3.199897\n",
       "47103   32 128 16   8     8     8    16    2   1   2   1    1    1  0  5.447513\n",
       "72490   64  32 16   8     8     8     8    8   8   2   1    0    0  1  3.739097\n",
       "210102 128 128 16  16     8     8    16    2   4   2   0    1    0  1  6.239379\n",
       "9562    16  64 32   8    32     8    16    8   1   2   1    0    0  1  4.150567\n",
       "169443 128  64 16   8     8     8     8    8   2   1   0    0    1  0  6.750177\n",
       "162888 128  32 32  16     8     8    16    2   8   1   0    1    1  1  4.137244\n",
       "725     16  16 32   8     8     8     8    2   1   2   0    1    0  0  4.309053\n",
       "224822 128 128 32   8    32     8     8    8   2   4   0    1    0  1  5.006159\n",
       "96414   64  64 16  32    16    32    32    8   1   2   1    1    0  1  3.779634\n",
       "146447 128  16 32   8    16    16     8    8   4   1   1    1    1  0  4.643525\n",
       "81291   64  32 32   8    16    32    32    8   1   1   1    0    1  0  3.848444\n",
       "128470  64 128 32   8    16    16    32    2   2   1   0    1    0  1  5.501585\n",
       "94368   64  64 16  16     8    32     8    8   1   8   1    1    1  1  3.018960\n",
       "182542 128  64 32   8     8     8    32    2   1   1   1    1    0  1  6.492179\n",
       "225461 128 128 32   8    32     8    32    2   8   1   0    1    0  0  5.984163\n",
       "15859   16 128 32   8    16     8    16    8   1   8   0    0    1  0  3.598955\n",
       "116539  64 128 16   8    16    32    16    2   2   2   1    0    1  0  5.792190\n",
       "47852   32 128 16   8     8    16     8    2   2   4   1    0    1  1  5.211833"
      ]
     },
     "metadata": {},
     "output_type": "display_data"
    }
   ],
   "source": [
    "segmm1 <- segmm %>%\n",
    "    mutate(logrun1 = log(Run1)) %>%\n",
    "    select(-Run1, -Run2, -Run3, -Run4)\n",
    "segmm1 <- segmm1[my_sample, ]\n",
    "segmm1"
   ]
  },
  {
   "cell_type": "markdown",
   "id": "945387ea",
   "metadata": {},
   "source": [
    "## Step 2.2: perform backward stepwise selection\n",
    "Using the leaps package, as in class, run backwards stepwise selection to predict timings from the logarithm of time for first run on models with all 14 predictors and all two-way interactions. Look at models with up to 20 variables (e.g. nvmax = 20). Plot the apparent error against the number of predictors.\n",
    "\n",
    "Hint: R formula has a simple way of incorporating (all) interaction terms. E.g.lm(Y~.^2) will fit a linear regression model for Y with ALL the individual predictors, AND all the 2-way interactions."
   ]
  },
  {
   "cell_type": "code",
   "execution_count": 3,
   "id": "42eb05a3",
   "metadata": {},
   "outputs": [
    {
     "data": {
      "image/png": "[encoded data removed]",
      "text/plain": [
       "plot without title"
      ]
     },
     "metadata": {
      "image/png": {
       "height": 420,
       "width": 420
      }
     },
     "output_type": "display_data"
    }
   ],
   "source": [
    "library(leaps)\n",
    "\n",
    "mf <- model.frame(logrun1~.^2, data = segmm1)\n",
    "X <- model.matrix(logrun1~.^2, mf)[,-1]\n",
    "\n",
    "nvmax <- 20\n",
    "subset1.reg <- regsubsets(x = X, y = segmm1$logrun1,\n",
    "                         nvmax = nvmax, method = 'backward')\n",
    "summ <- summary(subset1.reg)\n",
    "app.err <- summ$rss / (nrow(segmm1) - 1:nvmax)\n",
    "plot(x = 1:nvmax, y = app.err)"
   ]
  },
  {
   "cell_type": "markdown",
   "id": "f58122a1",
   "metadata": {},
   "source": [
    "# Task 3: Cross validation\n",
    "Using cross-validation, select a tuning parameter λ amongst the candidate set {2,4,6,8,10,12} so that minimising $nlogRSS+\\lambda p$ gives good mean squared prediction error, and select a predictive model.\n",
    "\n",
    "You would find the following code snippet (from lecture) useful."
   ]
  },
  {
   "cell_type": "code",
   "execution_count": 4,
   "id": "5d7e226a",
   "metadata": {},
   "outputs": [],
   "source": [
    "all_yhat <- function(xtrain, ytrain, xtest, lambdas, nvmax=50){\n",
    "  n <- nrow(xtrain)\n",
    "  yhat <- matrix(nrow = nrow(xtest), ncol = length(lambdas))\n",
    "  search <- regsubsets(xtrain, ytrain, nvmax=nvmax, method=\"back\")\n",
    "  summ <- summary(search)\n",
    "  for (i in seq_along(lambdas)) {\n",
    "    penMSE <- n*log(summ$rss) + lambdas[i]*(1:nvmax)\n",
    "    best <- which.min(penMSE)  #lowest AIC\n",
    "    betahat <- coef(search, best) #coefficients\n",
    "    xinmodel <- cbind(1, xtest)[, summ$which[best,]] #predictors in that model\n",
    "    yhat[,i] <- xinmodel %*% betahat\n",
    "  }\n",
    "  yhat\n",
    "}"
   ]
  },
  {
   "cell_type": "code",
   "execution_count": 5,
   "id": "97d37b54",
   "metadata": {},
   "outputs": [
    {
     "data": {
      "text/html": [
       "<table class=\"dataframe\">\n",
       "<caption>A matrix: 2 × 6 of type dbl</caption>\n",
       "<tbody>\n",
       "\t<tr><th scope=row>lambdas</th><td>2.0000000</td><td>4.0000000</td><td>6.0000000</td><td>8.000000</td><td>10.0000000</td><td>12.000000</td></tr>\n",
       "\t<tr><th scope=row></th><td>0.3695334</td><td>0.3655118</td><td>0.3508089</td><td>0.368111</td><td> 0.3634733</td><td> 0.376297</td></tr>\n",
       "</tbody>\n",
       "</table>\n"
      ],
      "text/latex": [
       "A matrix: 2 × 6 of type dbl\n",
       "\\begin{tabular}{r|llllll}\n",
       "\tlambdas & 2.0000000 & 4.0000000 & 6.0000000 & 8.000000 & 10.0000000 & 12.000000\\\\\n",
       "\t & 0.3695334 & 0.3655118 & 0.3508089 & 0.368111 &  0.3634733 &  0.376297\\\\\n",
       "\\end{tabular}\n"
      ],
      "text/markdown": [
       "\n",
       "A matrix: 2 × 6 of type dbl\n",
       "\n",
       "| lambdas | 2.0000000 | 4.0000000 | 6.0000000 | 8.000000 | 10.0000000 | 12.000000 |\n",
       "| <!----> | 0.3695334 | 0.3655118 | 0.3508089 | 0.368111 |  0.3634733 |  0.376297 |\n",
       "\n"
      ],
      "text/plain": [
       "        [,1]      [,2]      [,3]      [,4]     [,5]       [,6]     \n",
       "lambdas 2.0000000 4.0000000 6.0000000 8.000000 10.0000000 12.000000\n",
       "        0.3695334 0.3655118 0.3508089 0.368111  0.3634733  0.376297"
      ]
     },
     "metadata": {},
     "output_type": "display_data"
    }
   ],
   "source": [
    "y <- segmm1$logrun1\n",
    "n <- nrow(X)\n",
    "\n",
    "folds <- sample(rep(1:10, length.out = n))\n",
    "lambdas <- seq(2, 12, 2)\n",
    "fitted <- matrix(nrow=n, ncol=length(lambdas))\n",
    "for (i in 1:10) {\n",
    "    train <- (1:n)[folds!=i]\n",
    "    test <- (1:n)[folds==i]\n",
    "    # fit and calculate MSPE\n",
    "    fitted[test,] <- all_yhat(X[train,], y[train], X[test,], lambdas)\n",
    "}\n",
    "# find min --> best lambda\n",
    "rbind(lambdas, colMeans((y-fitted)^2))"
   ]
  },
  {
   "cell_type": "markdown",
   "id": "a0e65440",
   "metadata": {},
   "source": [
    "The minimum MSPE across validation folds was achieved using $\\lambda = 6$"
   ]
  },
  {
   "cell_type": "markdown",
   "id": "7e080e56",
   "metadata": {},
   "source": [
    "# Task 4: Estimate MSPE\n",
    "## Step 4.1: MSPE for the sample dataset\n",
    "Estimate the actual mean squared prediction error of your model using the second replicate of the experiment (log(Run2)) in your sample data set."
   ]
  },
  {
   "cell_type": "code",
   "execution_count": 6,
   "id": "b97314da",
   "metadata": {},
   "outputs": [
    {
     "data": {
      "text/html": [
       "0.376459050362336"
      ],
      "text/latex": [
       "0.376459050362336"
      ],
      "text/markdown": [
       "0.376459050362336"
      ],
      "text/plain": [
       "[1] 0.3764591"
      ]
     },
     "metadata": {},
     "output_type": "display_data"
    }
   ],
   "source": [
    "segmm2 <- segmm %>%\n",
    "    mutate(logrun2 = log(Run2)) %>%\n",
    "    select(-Run1, -Run2, -Run3, -Run4)\n",
    "segmm2_sample <- segmm2[my_sample, ]\n",
    "\n",
    "mf <- model.frame(logrun2~.^2, data = segmm2_sample)\n",
    "X <- model.matrix(logrun2~.^2, mf)[,-1]\n",
    "\n",
    "y <- segmm2_sample$logrun2\n",
    "n <- nrow(X)\n",
    "\n",
    "lambda <- 6\n",
    "\n",
    "folds <- sample(rep(1:10, length.out = n))\n",
    "lambdas <- 6\n",
    "fitted <- matrix(nrow=n, ncol=length(lambdas))\n",
    "for (i in 1:10) {\n",
    "    train <- (1:n)[folds!=i]\n",
    "    test <- (1:n)[folds==i]\n",
    "    # fit and calculate MSPE\n",
    "    fitted[test,] <- all_yhat(X[train,], y[train], X[test,], 6)\n",
    "}\n",
    "# find min --> best lambda\n",
    "colMeans((y-fitted)^2)"
   ]
  },
  {
   "cell_type": "markdown",
   "id": "48b89bab",
   "metadata": {},
   "source": [
    "## Step 4.2: MSPE for the entire dataset\n",
    "Estimate the actual mean squared prediction error of your model using the second replicate of the experiment (log(Run2)) on all 261,400 observations. Compare your results with 4.1 above."
   ]
  },
  {
   "cell_type": "code",
   "execution_count": 7,
   "id": "15aea54f",
   "metadata": {},
   "outputs": [
    {
     "data": {
      "text/html": [
       "0.292983594937108"
      ],
      "text/latex": [
       "0.292983594937108"
      ],
      "text/markdown": [
       "0.292983594937108"
      ],
      "text/plain": [
       "[1] 0.2929836"
      ]
     },
     "metadata": {},
     "output_type": "display_data"
    }
   ],
   "source": [
    "mf <- model.frame(logrun2~.^2, data = segmm2)\n",
    "X <- model.matrix(logrun2~.^2, mf)[,-1]\n",
    "\n",
    "y <- segmm2$logrun2\n",
    "n <- nrow(X)\n",
    "\n",
    "lambda <- 6\n",
    "\n",
    "# reduce to 2 folds for computation time\n",
    "folds <- sample(rep(1:2, length.out = n))\n",
    "lambdas <- 6\n",
    "fitted <- matrix(nrow=n, ncol=length(lambdas))\n",
    "for (i in 1:2) {\n",
    "    train <- (1:n)[folds!=i]\n",
    "    test <- (1:n)[folds==i]\n",
    "    # fit and calculate MSPE\n",
    "    fitted[test,] <- all_yhat(X[train,], y[train], X[test,], 6)\n",
    "}\n",
    "# find min --> best lambda\n",
    "colMeans((y-fitted)^2)"
   ]
  },
  {
   "cell_type": "markdown",
   "id": "62360de2",
   "metadata": {},
   "source": [
    "When the model is trained and tested on the full set of observations, the Mean Squared Prediction Error is less than when the model is trained only on the small sample set."
   ]
  },
  {
   "cell_type": "markdown",
   "id": "d88120e7",
   "metadata": {},
   "source": [
    "## EOF"
   ]
  }
 ],
 "metadata": {
  "kernelspec": {
   "display_name": "R",
   "language": "R",
   "name": "ir"
  },
  "language_info": {
   "codemirror_mode": "r",
   "file_extension": ".r",
   "mimetype": "text/x-r-source",
   "name": "R",
   "pygments_lexer": "r",
   "version": "4.1.3"
  }
 },
 "nbformat": 4,
 "nbformat_minor": 5
}
